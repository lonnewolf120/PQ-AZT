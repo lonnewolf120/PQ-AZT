{
 "cells": [
  {
   "cell_type": "code",
   "execution_count": 1,
   "id": "47c8361c",
   "metadata": {
    "_cell_guid": "b1076dfc-b9ad-4769-8c92-a6c4dae69d19",
    "_uuid": "8f2839f25d086af736a60e9eeb907d3b93b6e0e5",
    "execution": {
     "iopub.execute_input": "2025-08-26T08:48:16.729694Z",
     "iopub.status.busy": "2025-08-26T08:48:16.729285Z",
     "iopub.status.idle": "2025-08-26T08:48:18.643811Z",
     "shell.execute_reply": "2025-08-26T08:48:18.642969Z"
    },
    "papermill": {
     "duration": 1.921726,
     "end_time": "2025-08-26T08:48:18.645482",
     "exception": false,
     "start_time": "2025-08-26T08:48:16.723756",
     "status": "completed"
    },
    "tags": []
   },
   "outputs": [],
   "source": [
    "import pandas as pd"
   ]
  },
  {
   "cell_type": "code",
   "execution_count": 2,
   "id": "cc219519",
   "metadata": {
    "execution": {
     "iopub.execute_input": "2025-08-26T08:48:18.654257Z",
     "iopub.status.busy": "2025-08-26T08:48:18.653459Z",
     "iopub.status.idle": "2025-08-26T08:48:19.310362Z",
     "shell.execute_reply": "2025-08-26T08:48:19.309341Z"
    },
    "papermill": {
     "duration": 0.662567,
     "end_time": "2025-08-26T08:48:19.311793",
     "exception": false,
     "start_time": "2025-08-26T08:48:18.649226",
     "status": "completed"
    },
    "tags": []
   },
   "outputs": [
    {
     "name": "stdout",
     "output_type": "stream",
     "text": [
      "Path to dataset files: /kaggle/input/cic-iot-dataset2023-updated-2024-10-08\n"
     ]
    }
   ],
   "source": [
    "import kagglehub\n",
    "\n",
    "# Download latest version\n",
    "path = kagglehub.dataset_download(\"mdabdulalemo/cic-iot-dataset2023-updated-2024-10-08\")\n",
    "\n",
    "print(\"Path to dataset files:\", path)\n",
    "#  /kaggle/input/cic-iot-dataset2023-updated-2024-10-08"
   ]
  },
  {
   "cell_type": "code",
   "execution_count": 3,
   "id": "da04c2ab",
   "metadata": {
    "execution": {
     "iopub.execute_input": "2025-08-26T08:48:19.320064Z",
     "iopub.status.busy": "2025-08-26T08:48:19.319532Z",
     "iopub.status.idle": "2025-08-26T08:48:19.323608Z",
     "shell.execute_reply": "2025-08-26T08:48:19.322812Z"
    },
    "papermill": {
     "duration": 0.009587,
     "end_time": "2025-08-26T08:48:19.324928",
     "exception": false,
     "start_time": "2025-08-26T08:48:19.315341",
     "status": "completed"
    },
    "tags": []
   },
   "outputs": [],
   "source": [
    "import os\n",
    "import glob\n",
    "import kagglehub\n",
    "import numpy as np"
   ]
  },
  {
   "cell_type": "code",
   "execution_count": 4,
   "id": "fba6ea12",
   "metadata": {
    "execution": {
     "iopub.execute_input": "2025-08-26T08:48:19.333188Z",
     "iopub.status.busy": "2025-08-26T08:48:19.332854Z",
     "iopub.status.idle": "2025-08-26T08:48:28.151613Z",
     "shell.execute_reply": "2025-08-26T08:48:28.150468Z"
    },
    "papermill": {
     "duration": 8.824832,
     "end_time": "2025-08-26T08:48:28.153334",
     "exception": false,
     "start_time": "2025-08-26T08:48:19.328502",
     "status": "completed"
    },
    "tags": []
   },
   "outputs": [
    {
     "name": "stdout",
     "output_type": "stream",
     "text": [
      "Collecting qiskit\r\n",
      "  Downloading qiskit-2.1.2-cp39-abi3-manylinux_2_17_x86_64.manylinux2014_x86_64.whl.metadata (12 kB)\r\n",
      "Collecting qiskit-aer\r\n",
      "  Downloading qiskit_aer-0.17.1-cp311-cp311-manylinux_2_17_x86_64.manylinux2014_x86_64.whl.metadata (8.3 kB)\r\n",
      "Requirement already satisfied: pyarrow in /usr/local/lib/python3.11/dist-packages (19.0.1)\r\n",
      "Collecting fastparquet\r\n",
      "  Downloading fastparquet-2024.11.0-cp311-cp311-manylinux_2_17_x86_64.manylinux2014_x86_64.whl.metadata (4.2 kB)\r\n",
      "Collecting rustworkx>=0.15.0 (from qiskit)\r\n",
      "  Downloading rustworkx-0.17.1-cp39-abi3-manylinux_2_17_x86_64.manylinux2014_x86_64.whl.metadata (10 kB)\r\n",
      "Requirement already satisfied: numpy<3,>=1.17 in /usr/local/lib/python3.11/dist-packages (from qiskit) (1.26.4)\r\n",
      "Requirement already satisfied: scipy>=1.5 in /usr/local/lib/python3.11/dist-packages (from qiskit) (1.15.3)\r\n",
      "Requirement already satisfied: dill>=0.3 in /usr/local/lib/python3.11/dist-packages (from qiskit) (0.3.8)\r\n",
      "Collecting stevedore>=3.0.0 (from qiskit)\r\n",
      "  Downloading stevedore-5.5.0-py3-none-any.whl.metadata (2.2 kB)\r\n",
      "Requirement already satisfied: typing-extensions in /usr/local/lib/python3.11/dist-packages (from qiskit) (4.14.0)\r\n",
      "Requirement already satisfied: psutil>=5 in /usr/local/lib/python3.11/dist-packages (from qiskit-aer) (7.0.0)\r\n",
      "Requirement already satisfied: python-dateutil>=2.8.0 in /usr/local/lib/python3.11/dist-packages (from qiskit-aer) (2.9.0.post0)\r\n",
      "Requirement already satisfied: pandas>=1.5.0 in /usr/local/lib/python3.11/dist-packages (from fastparquet) (2.2.3)\r\n",
      "Requirement already satisfied: cramjam>=2.3 in /usr/local/lib/python3.11/dist-packages (from fastparquet) (2.10.0)\r\n",
      "Requirement already satisfied: fsspec in /usr/local/lib/python3.11/dist-packages (from fastparquet) (2025.5.1)\r\n",
      "Requirement already satisfied: packaging in /usr/local/lib/python3.11/dist-packages (from fastparquet) (25.0)\r\n",
      "Requirement already satisfied: mkl_fft in /usr/local/lib/python3.11/dist-packages (from numpy<3,>=1.17->qiskit) (1.3.8)\r\n",
      "Requirement already satisfied: mkl_random in /usr/local/lib/python3.11/dist-packages (from numpy<3,>=1.17->qiskit) (1.2.4)\r\n",
      "Requirement already satisfied: mkl_umath in /usr/local/lib/python3.11/dist-packages (from numpy<3,>=1.17->qiskit) (0.1.1)\r\n",
      "Requirement already satisfied: mkl in /usr/local/lib/python3.11/dist-packages (from numpy<3,>=1.17->qiskit) (2025.2.0)\r\n",
      "Requirement already satisfied: tbb4py in /usr/local/lib/python3.11/dist-packages (from numpy<3,>=1.17->qiskit) (2022.2.0)\r\n",
      "Requirement already satisfied: mkl-service in /usr/local/lib/python3.11/dist-packages (from numpy<3,>=1.17->qiskit) (2.4.1)\r\n",
      "Requirement already satisfied: pytz>=2020.1 in /usr/local/lib/python3.11/dist-packages (from pandas>=1.5.0->fastparquet) (2025.2)\r\n",
      "Requirement already satisfied: tzdata>=2022.7 in /usr/local/lib/python3.11/dist-packages (from pandas>=1.5.0->fastparquet) (2025.2)\r\n",
      "Requirement already satisfied: six>=1.5 in /usr/local/lib/python3.11/dist-packages (from python-dateutil>=2.8.0->qiskit-aer) (1.17.0)\r\n",
      "Requirement already satisfied: intel-openmp<2026,>=2024 in /usr/local/lib/python3.11/dist-packages (from mkl->numpy<3,>=1.17->qiskit) (2024.2.0)\r\n",
      "Requirement already satisfied: tbb==2022.* in /usr/local/lib/python3.11/dist-packages (from mkl->numpy<3,>=1.17->qiskit) (2022.2.0)\r\n",
      "Requirement already satisfied: tcmlib==1.* in /usr/local/lib/python3.11/dist-packages (from tbb==2022.*->mkl->numpy<3,>=1.17->qiskit) (1.4.0)\r\n",
      "Requirement already satisfied: intel-cmplr-lib-rt in /usr/local/lib/python3.11/dist-packages (from mkl_umath->numpy<3,>=1.17->qiskit) (2024.2.0)\r\n",
      "Requirement already satisfied: intel-cmplr-lib-ur==2024.2.0 in /usr/local/lib/python3.11/dist-packages (from intel-openmp<2026,>=2024->mkl->numpy<3,>=1.17->qiskit) (2024.2.0)\r\n",
      "Downloading qiskit-2.1.2-cp39-abi3-manylinux_2_17_x86_64.manylinux2014_x86_64.whl (7.4 MB)\r\n",
      "\u001b[2K   \u001b[90m━━━━━━━━━━━━━━━━━━━━━━━━━━━━━━━━━━━━━━━━\u001b[0m \u001b[32m7.4/7.4 MB\u001b[0m \u001b[31m72.2 MB/s\u001b[0m eta \u001b[36m0:00:00\u001b[0m\r\n",
      "\u001b[?25hDownloading qiskit_aer-0.17.1-cp311-cp311-manylinux_2_17_x86_64.manylinux2014_x86_64.whl (12.4 MB)\r\n",
      "\u001b[2K   \u001b[90m━━━━━━━━━━━━━━━━━━━━━━━━━━━━━━━━━━━━━━━━\u001b[0m \u001b[32m12.4/12.4 MB\u001b[0m \u001b[31m82.8 MB/s\u001b[0m eta \u001b[36m0:00:00\u001b[0m\r\n",
      "\u001b[?25hDownloading fastparquet-2024.11.0-cp311-cp311-manylinux_2_17_x86_64.manylinux2014_x86_64.whl (1.8 MB)\r\n",
      "\u001b[2K   \u001b[90m━━━━━━━━━━━━━━━━━━━━━━━━━━━━━━━━━━━━━━━━\u001b[0m \u001b[32m1.8/1.8 MB\u001b[0m \u001b[31m58.4 MB/s\u001b[0m eta \u001b[36m0:00:00\u001b[0m\r\n",
      "\u001b[?25hDownloading rustworkx-0.17.1-cp39-abi3-manylinux_2_17_x86_64.manylinux2014_x86_64.whl (2.2 MB)\r\n",
      "\u001b[2K   \u001b[90m━━━━━━━━━━━━━━━━━━━━━━━━━━━━━━━━━━━━━━━━\u001b[0m \u001b[32m2.2/2.2 MB\u001b[0m \u001b[31m60.0 MB/s\u001b[0m eta \u001b[36m0:00:00\u001b[0m\r\n",
      "\u001b[?25hDownloading stevedore-5.5.0-py3-none-any.whl (49 kB)\r\n",
      "\u001b[2K   \u001b[90m━━━━━━━━━━━━━━━━━━━━━━━━━━━━━━━━━━━━━━━━\u001b[0m \u001b[32m49.5/49.5 kB\u001b[0m \u001b[31m2.2 MB/s\u001b[0m eta \u001b[36m0:00:00\u001b[0m\r\n",
      "\u001b[?25hInstalling collected packages: stevedore, rustworkx, qiskit, qiskit-aer, fastparquet\r\n",
      "Successfully installed fastparquet-2024.11.0 qiskit-2.1.2 qiskit-aer-0.17.1 rustworkx-0.17.1 stevedore-5.5.0\r\n"
     ]
    }
   ],
   "source": [
    "# --- Make sure required libraries are installed ---\n",
    "!pip install qiskit qiskit-aer pyarrow fastparquet"
   ]
  },
  {
   "cell_type": "code",
   "execution_count": 5,
   "id": "cb62a610",
   "metadata": {
    "execution": {
     "iopub.execute_input": "2025-08-26T08:48:28.164609Z",
     "iopub.status.busy": "2025-08-26T08:48:28.164252Z",
     "iopub.status.idle": "2025-08-26T08:48:28.677995Z",
     "shell.execute_reply": "2025-08-26T08:48:28.677334Z"
    },
    "papermill": {
     "duration": 0.521205,
     "end_time": "2025-08-26T08:48:28.679609",
     "exception": false,
     "start_time": "2025-08-26T08:48:28.158404",
     "status": "completed"
    },
    "tags": []
   },
   "outputs": [],
   "source": [
    "from qiskit import QuantumCircuit\n",
    "from qiskit_aer import AerSimulator"
   ]
  },
  {
   "cell_type": "code",
   "execution_count": 6,
   "id": "236196d6",
   "metadata": {
    "execution": {
     "iopub.execute_input": "2025-08-26T08:48:28.690538Z",
     "iopub.status.busy": "2025-08-26T08:48:28.689888Z",
     "iopub.status.idle": "2025-08-26T08:48:28.696194Z",
     "shell.execute_reply": "2025-08-26T08:48:28.695463Z"
    },
    "papermill": {
     "duration": 0.013176,
     "end_time": "2025-08-26T08:48:28.697545",
     "exception": false,
     "start_time": "2025-08-26T08:48:28.684369",
     "status": "completed"
    },
    "tags": []
   },
   "outputs": [],
   "source": [
    "# --- Define functions for generating new column data ---\n",
    "def assign_trust_score(label):\n",
    "    if label == 'Benign_Final': return np.random.uniform(0.9, 1.0)\n",
    "    else: return np.random.uniform(0.05, 0.2)\n",
    "\n",
    "def generate_quantum_random_value(num_qubits=8):\n",
    "    circuit = QuantumCircuit(num_qubits)\n",
    "    circuit.h(range(num_qubits))\n",
    "    circuit.measure_all()\n",
    "    simulator = AerSimulator()\n",
    "    result = simulator.run(circuit, shots=1, memory=True).result()\n",
    "    binary_string = result.get_memory(circuit)[0]\n",
    "    return int(binary_string, 2) / (2**num_qubits - 1)"
   ]
  },
  {
   "cell_type": "code",
   "execution_count": 7,
   "id": "27a901e1",
   "metadata": {
    "execution": {
     "iopub.execute_input": "2025-08-26T08:48:28.707655Z",
     "iopub.status.busy": "2025-08-26T08:48:28.707353Z",
     "iopub.status.idle": "2025-08-26T08:48:30.150909Z",
     "shell.execute_reply": "2025-08-26T08:48:30.150039Z"
    },
    "papermill": {
     "duration": 1.450268,
     "end_time": "2025-08-26T08:48:30.152414",
     "exception": false,
     "start_time": "2025-08-26T08:48:28.702146",
     "status": "completed"
    },
    "tags": []
   },
   "outputs": [
    {
     "name": "stdout",
     "output_type": "stream",
     "text": [
      "Found 309 files. Starting chunk-by-chunk processing...\n"
     ]
    }
   ],
   "source": [
    "# Pre-generate batches of random data so we don't do it inside the loop\n",
    "ztm_states = ['Verified', 'Unverified', 'Requires_MFA']\n",
    "pqc_algorithms = ['Classic_ECC', 'Kyber-512', 'Dilithium2', 'Falcon-512']\n",
    "quantum_values_batch = [generate_quantum_random_value() for _ in range(1000)]\n",
    "\n",
    "# --- Set up file paths ---\n",
    "full_search_path = os.path.join(path, 'CIC_IOT_Dataset2023', 'CSV')\n",
    "search_pattern = os.path.join(full_search_path, \"**\", \"*.pcap.csv\")\n",
    "all_csv_files = glob.glob(search_pattern, recursive=True)\n",
    "\n",
    "# Define the name of our final output file\n",
    "output_parquet_file = '/kaggle/working/enriched_dataset.parquet'\n",
    "\n",
    "print(f\"Found {len(all_csv_files)} files. Starting chunk-by-chunk processing...\")"
   ]
  },
  {
   "cell_type": "code",
   "execution_count": 8,
   "id": "48d16763",
   "metadata": {
    "execution": {
     "iopub.execute_input": "2025-08-26T08:48:30.163079Z",
     "iopub.status.busy": "2025-08-26T08:48:30.162773Z",
     "iopub.status.idle": "2025-08-26T08:56:25.513136Z",
     "shell.execute_reply": "2025-08-26T08:56:25.512092Z"
    },
    "papermill": {
     "duration": 475.357348,
     "end_time": "2025-08-26T08:56:25.514664",
     "exception": false,
     "start_time": "2025-08-26T08:48:30.157316",
     "status": "completed"
    },
    "tags": []
   },
   "outputs": [
    {
     "name": "stdout",
     "output_type": "stream",
     "text": [
      "Processing file 1/309: /kaggle/input/cic-iot-dataset2023-updated-2024-10-08/CIC_IOT_Dataset2023/CSV/MITM-ArpSpoofing/MITM-ArpSpoofing.pcap.csv\n",
      "Processing file 2/309: /kaggle/input/cic-iot-dataset2023-updated-2024-10-08/CIC_IOT_Dataset2023/CSV/MITM-ArpSpoofing/MITM-ArpSpoofing1.pcap.csv\n",
      "Processing file 3/309: /kaggle/input/cic-iot-dataset2023-updated-2024-10-08/CIC_IOT_Dataset2023/CSV/DDoS-RSTFINFLOOD/DDoS-RSTFINFlood6.pcap.csv\n",
      "Processing file 4/309: /kaggle/input/cic-iot-dataset2023-updated-2024-10-08/CIC_IOT_Dataset2023/CSV/DDoS-RSTFINFLOOD/DDoS-RSTFINFlood2.pcap.csv\n",
      "Processing file 5/309: /kaggle/input/cic-iot-dataset2023-updated-2024-10-08/CIC_IOT_Dataset2023/CSV/DDoS-RSTFINFLOOD/DDoS-RSTFINFlood15.pcap.csv\n",
      "Processing file 6/309: /kaggle/input/cic-iot-dataset2023-updated-2024-10-08/CIC_IOT_Dataset2023/CSV/DDoS-RSTFINFLOOD/DDoS-RSTFINFlood14.pcap.csv\n",
      "Processing file 7/309: /kaggle/input/cic-iot-dataset2023-updated-2024-10-08/CIC_IOT_Dataset2023/CSV/DDoS-RSTFINFLOOD/DDoS-RSTFINFlood7.pcap.csv\n",
      "Processing file 8/309: /kaggle/input/cic-iot-dataset2023-updated-2024-10-08/CIC_IOT_Dataset2023/CSV/DDoS-RSTFINFLOOD/DDoS-RSTFINFlood13.pcap.csv\n",
      "Processing file 9/309: /kaggle/input/cic-iot-dataset2023-updated-2024-10-08/CIC_IOT_Dataset2023/CSV/DDoS-RSTFINFLOOD/DDoS-RSTFINFlood5.pcap.csv\n",
      "Processing file 10/309: /kaggle/input/cic-iot-dataset2023-updated-2024-10-08/CIC_IOT_Dataset2023/CSV/DDoS-RSTFINFLOOD/DDoS-RSTFINFlood10.pcap.csv\n",
      "Processing file 11/309: /kaggle/input/cic-iot-dataset2023-updated-2024-10-08/CIC_IOT_Dataset2023/CSV/DDoS-RSTFINFLOOD/DDoS-RSTFINFlood8.pcap.csv\n",
      "Processing file 12/309: /kaggle/input/cic-iot-dataset2023-updated-2024-10-08/CIC_IOT_Dataset2023/CSV/DDoS-RSTFINFLOOD/DDoS-RSTFINFlood9.pcap.csv\n",
      "Processing file 13/309: /kaggle/input/cic-iot-dataset2023-updated-2024-10-08/CIC_IOT_Dataset2023/CSV/DDoS-RSTFINFLOOD/DDoS-RSTFINFlood3.pcap.csv\n",
      "Processing file 14/309: /kaggle/input/cic-iot-dataset2023-updated-2024-10-08/CIC_IOT_Dataset2023/CSV/DDoS-RSTFINFLOOD/DDoS-RSTFINFlood12.pcap.csv\n",
      "Processing file 15/309: /kaggle/input/cic-iot-dataset2023-updated-2024-10-08/CIC_IOT_Dataset2023/CSV/DDoS-RSTFINFLOOD/DDoS-RSTFINFlood11.pcap.csv\n",
      "Processing file 16/309: /kaggle/input/cic-iot-dataset2023-updated-2024-10-08/CIC_IOT_Dataset2023/CSV/DDoS-RSTFINFLOOD/DDoS-RSTFINFlood.pcap.csv\n",
      "Processing file 17/309: /kaggle/input/cic-iot-dataset2023-updated-2024-10-08/CIC_IOT_Dataset2023/CSV/DDoS-RSTFINFLOOD/DDoS-RSTFINFlood4.pcap.csv\n",
      "Processing file 18/309: /kaggle/input/cic-iot-dataset2023-updated-2024-10-08/CIC_IOT_Dataset2023/CSV/DDoS-RSTFINFLOOD/DDoS-RSTFINFlood1.pcap.csv\n",
      "Processing file 19/309: /kaggle/input/cic-iot-dataset2023-updated-2024-10-08/CIC_IOT_Dataset2023/CSV/DoS-SYN_Flood/DoS-SYN_Flood4.pcap.csv\n",
      "Processing file 20/309: /kaggle/input/cic-iot-dataset2023-updated-2024-10-08/CIC_IOT_Dataset2023/CSV/DoS-SYN_Flood/DoS-SYN_Flood.pcap.csv\n",
      "Processing file 21/309: /kaggle/input/cic-iot-dataset2023-updated-2024-10-08/CIC_IOT_Dataset2023/CSV/DoS-SYN_Flood/DoS-SYN_Flood3.pcap.csv\n",
      "Processing file 22/309: /kaggle/input/cic-iot-dataset2023-updated-2024-10-08/CIC_IOT_Dataset2023/CSV/DoS-SYN_Flood/DoS-SYN_Flood2.pcap.csv\n",
      "Processing file 23/309: /kaggle/input/cic-iot-dataset2023-updated-2024-10-08/CIC_IOT_Dataset2023/CSV/DoS-SYN_Flood/DoS-SYN_Flood1.pcap.csv\n",
      "Processing file 24/309: /kaggle/input/cic-iot-dataset2023-updated-2024-10-08/CIC_IOT_Dataset2023/CSV/DoS-SYN_Flood/DoS-SYN_Flood5.pcap.csv\n",
      "Processing file 25/309: /kaggle/input/cic-iot-dataset2023-updated-2024-10-08/CIC_IOT_Dataset2023/CSV/DoS-SYN_Flood/DoS-SYN_Flood7.pcap.csv\n",
      "Processing file 26/309: /kaggle/input/cic-iot-dataset2023-updated-2024-10-08/CIC_IOT_Dataset2023/CSV/DoS-SYN_Flood/DoS-SYN_Flood6.pcap.csv\n",
      "Processing file 27/309: /kaggle/input/cic-iot-dataset2023-updated-2024-10-08/CIC_IOT_Dataset2023/CSV/Mirai-udpplain/Mirai-udpplain8.pcap.csv\n",
      "Processing file 28/309: /kaggle/input/cic-iot-dataset2023-updated-2024-10-08/CIC_IOT_Dataset2023/CSV/Mirai-udpplain/Mirai-udpplain24.pcap.csv\n",
      "Processing file 29/309: /kaggle/input/cic-iot-dataset2023-updated-2024-10-08/CIC_IOT_Dataset2023/CSV/Mirai-udpplain/Mirai-udpplain19.pcap.csv\n",
      "Processing file 30/309: /kaggle/input/cic-iot-dataset2023-updated-2024-10-08/CIC_IOT_Dataset2023/CSV/Mirai-udpplain/Mirai-udpplain13.pcap.csv\n",
      "Processing file 31/309: /kaggle/input/cic-iot-dataset2023-updated-2024-10-08/CIC_IOT_Dataset2023/CSV/Mirai-udpplain/Mirai-udpplain6.pcap.csv\n",
      "Processing file 32/309: /kaggle/input/cic-iot-dataset2023-updated-2024-10-08/CIC_IOT_Dataset2023/CSV/Mirai-udpplain/Mirai-udpplain22.pcap.csv\n",
      "Processing file 33/309: /kaggle/input/cic-iot-dataset2023-updated-2024-10-08/CIC_IOT_Dataset2023/CSV/Mirai-udpplain/Mirai-udpplain20.pcap.csv\n",
      "Processing file 34/309: /kaggle/input/cic-iot-dataset2023-updated-2024-10-08/CIC_IOT_Dataset2023/CSV/Mirai-udpplain/Mirai-udpplain9.pcap.csv\n",
      "Processing file 35/309: /kaggle/input/cic-iot-dataset2023-updated-2024-10-08/CIC_IOT_Dataset2023/CSV/Mirai-udpplain/Mirai-udpplain18.pcap.csv\n",
      "Processing file 36/309: /kaggle/input/cic-iot-dataset2023-updated-2024-10-08/CIC_IOT_Dataset2023/CSV/Mirai-udpplain/Mirai-udpplain1.pcap.csv\n",
      "Processing file 37/309: /kaggle/input/cic-iot-dataset2023-updated-2024-10-08/CIC_IOT_Dataset2023/CSV/Mirai-udpplain/Mirai-udpplain11.pcap.csv\n",
      "Processing file 38/309: /kaggle/input/cic-iot-dataset2023-updated-2024-10-08/CIC_IOT_Dataset2023/CSV/Mirai-udpplain/Mirai-udpplain14.pcap.csv\n",
      "Processing file 39/309: /kaggle/input/cic-iot-dataset2023-updated-2024-10-08/CIC_IOT_Dataset2023/CSV/Mirai-udpplain/Mirai-udpplain4.pcap.csv\n",
      "Processing file 40/309: /kaggle/input/cic-iot-dataset2023-updated-2024-10-08/CIC_IOT_Dataset2023/CSV/Mirai-udpplain/Mirai-udpplain21.pcap.csv\n",
      "Processing file 41/309: /kaggle/input/cic-iot-dataset2023-updated-2024-10-08/CIC_IOT_Dataset2023/CSV/Mirai-udpplain/Mirai-udpplain16.pcap.csv\n",
      "Processing file 42/309: /kaggle/input/cic-iot-dataset2023-updated-2024-10-08/CIC_IOT_Dataset2023/CSV/Mirai-udpplain/Mirai-udpplain2.pcap.csv\n",
      "Processing file 43/309: /kaggle/input/cic-iot-dataset2023-updated-2024-10-08/CIC_IOT_Dataset2023/CSV/Mirai-udpplain/Mirai-udpplain17.pcap.csv\n",
      "Processing file 44/309: /kaggle/input/cic-iot-dataset2023-updated-2024-10-08/CIC_IOT_Dataset2023/CSV/Mirai-udpplain/Mirai-udpplain5.pcap.csv\n",
      "Processing file 45/309: /kaggle/input/cic-iot-dataset2023-updated-2024-10-08/CIC_IOT_Dataset2023/CSV/Mirai-udpplain/Mirai-udpplain10.pcap.csv\n",
      "Processing file 46/309: /kaggle/input/cic-iot-dataset2023-updated-2024-10-08/CIC_IOT_Dataset2023/CSV/Mirai-udpplain/Mirai-udpplain15.pcap.csv\n",
      "Processing file 47/309: /kaggle/input/cic-iot-dataset2023-updated-2024-10-08/CIC_IOT_Dataset2023/CSV/Mirai-udpplain/Mirai-udpplain12.pcap.csv\n",
      "Processing file 48/309: /kaggle/input/cic-iot-dataset2023-updated-2024-10-08/CIC_IOT_Dataset2023/CSV/Mirai-udpplain/Mirai-udpplain.pcap.csv\n",
      "Processing file 49/309: /kaggle/input/cic-iot-dataset2023-updated-2024-10-08/CIC_IOT_Dataset2023/CSV/Mirai-udpplain/Mirai-udpplain3.pcap.csv\n",
      "Processing file 50/309: /kaggle/input/cic-iot-dataset2023-updated-2024-10-08/CIC_IOT_Dataset2023/CSV/Mirai-udpplain/Mirai-udpplain23.pcap.csv\n",
      "Processing file 51/309: /kaggle/input/cic-iot-dataset2023-updated-2024-10-08/CIC_IOT_Dataset2023/CSV/Mirai-udpplain/Mirai-udpplain7.pcap.csv\n",
      "Processing file 52/309: /kaggle/input/cic-iot-dataset2023-updated-2024-10-08/CIC_IOT_Dataset2023/CSV/Benign_Final/BenignTraffic2.pcap.csv\n",
      "Processing file 53/309: /kaggle/input/cic-iot-dataset2023-updated-2024-10-08/CIC_IOT_Dataset2023/CSV/Benign_Final/BenignTraffic.pcap.csv\n",
      "Processing file 54/309: /kaggle/input/cic-iot-dataset2023-updated-2024-10-08/CIC_IOT_Dataset2023/CSV/Benign_Final/BenignTraffic1.pcap.csv\n",
      "Processing file 55/309: /kaggle/input/cic-iot-dataset2023-updated-2024-10-08/CIC_IOT_Dataset2023/CSV/Benign_Final/BenignTraffic3.pcap.csv\n",
      "Processing file 56/309: /kaggle/input/cic-iot-dataset2023-updated-2024-10-08/CIC_IOT_Dataset2023/CSV/Recon-PingSweep/Recon-PingSweep.pcap.csv\n",
      "Processing file 57/309: /kaggle/input/cic-iot-dataset2023-updated-2024-10-08/CIC_IOT_Dataset2023/CSV/Recon-PortScan/Recon-PortScan.pcap.csv\n",
      "Processing file 58/309: /kaggle/input/cic-iot-dataset2023-updated-2024-10-08/CIC_IOT_Dataset2023/CSV/DoS-HTTP_Flood/DoS-HTTP_Flood1.pcap.csv\n",
      "Processing file 59/309: /kaggle/input/cic-iot-dataset2023-updated-2024-10-08/CIC_IOT_Dataset2023/CSV/DoS-HTTP_Flood/DoS-HTTP_Flood.pcap.csv\n",
      "Processing file 60/309: /kaggle/input/cic-iot-dataset2023-updated-2024-10-08/CIC_IOT_Dataset2023/CSV/DNS_Spoofing/DNS_Spoofing.pcap.csv\n",
      "Processing file 61/309: /kaggle/input/cic-iot-dataset2023-updated-2024-10-08/CIC_IOT_Dataset2023/CSV/DDoS-SYN_Flood/DDoS-SYN_Flood1.pcap.csv\n",
      "Processing file 62/309: /kaggle/input/cic-iot-dataset2023-updated-2024-10-08/CIC_IOT_Dataset2023/CSV/DDoS-SYN_Flood/DDoS-SYN_Flood15.pcap.csv\n",
      "Processing file 63/309: /kaggle/input/cic-iot-dataset2023-updated-2024-10-08/CIC_IOT_Dataset2023/CSV/DDoS-SYN_Flood/DDoS-SYN_Flood14.pcap.csv\n",
      "Processing file 64/309: /kaggle/input/cic-iot-dataset2023-updated-2024-10-08/CIC_IOT_Dataset2023/CSV/DDoS-SYN_Flood/DDoS-SYN_Flood6.pcap.csv\n",
      "Processing file 65/309: /kaggle/input/cic-iot-dataset2023-updated-2024-10-08/CIC_IOT_Dataset2023/CSV/DDoS-SYN_Flood/DDoS-SYN_Flood13.pcap.csv\n",
      "Processing file 66/309: /kaggle/input/cic-iot-dataset2023-updated-2024-10-08/CIC_IOT_Dataset2023/CSV/DDoS-SYN_Flood/DDoS-SYN_Flood8.pcap.csv\n",
      "Processing file 67/309: /kaggle/input/cic-iot-dataset2023-updated-2024-10-08/CIC_IOT_Dataset2023/CSV/DDoS-SYN_Flood/DDoS-SYN_Flood12.pcap.csv\n",
      "Processing file 68/309: /kaggle/input/cic-iot-dataset2023-updated-2024-10-08/CIC_IOT_Dataset2023/CSV/DDoS-SYN_Flood/DDoS-SYN_Flood9.pcap.csv\n",
      "Processing file 69/309: /kaggle/input/cic-iot-dataset2023-updated-2024-10-08/CIC_IOT_Dataset2023/CSV/DDoS-SYN_Flood/DDoS-SYN_Flood4.pcap.csv\n",
      "Processing file 70/309: /kaggle/input/cic-iot-dataset2023-updated-2024-10-08/CIC_IOT_Dataset2023/CSV/DDoS-SYN_Flood/DDoS-SYN_Flood.pcap.csv\n",
      "Processing file 71/309: /kaggle/input/cic-iot-dataset2023-updated-2024-10-08/CIC_IOT_Dataset2023/CSV/DDoS-SYN_Flood/DDoS-SYN_Flood5.pcap.csv\n",
      "Processing file 72/309: /kaggle/input/cic-iot-dataset2023-updated-2024-10-08/CIC_IOT_Dataset2023/CSV/DDoS-SYN_Flood/DDoS-SYN_Flood11.pcap.csv\n",
      "Processing file 73/309: /kaggle/input/cic-iot-dataset2023-updated-2024-10-08/CIC_IOT_Dataset2023/CSV/DDoS-SYN_Flood/DDoS-SYN_Flood3.pcap.csv\n",
      "Processing file 74/309: /kaggle/input/cic-iot-dataset2023-updated-2024-10-08/CIC_IOT_Dataset2023/CSV/DDoS-SYN_Flood/DDoS-SYN_Flood2.pcap.csv\n",
      "Processing file 75/309: /kaggle/input/cic-iot-dataset2023-updated-2024-10-08/CIC_IOT_Dataset2023/CSV/DDoS-SYN_Flood/DDoS-SYN_Flood10.pcap.csv\n",
      "Processing file 76/309: /kaggle/input/cic-iot-dataset2023-updated-2024-10-08/CIC_IOT_Dataset2023/CSV/DDoS-SYN_Flood/DDoS-SYN_Flood7.pcap.csv\n",
      "Processing file 77/309: /kaggle/input/cic-iot-dataset2023-updated-2024-10-08/CIC_IOT_Dataset2023/CSV/DDoS-SynonymousIP_Flood/DDoS-SynonymousIP_Flood2.pcap.csv\n",
      "Processing file 78/309: /kaggle/input/cic-iot-dataset2023-updated-2024-10-08/CIC_IOT_Dataset2023/CSV/DDoS-SynonymousIP_Flood/DDoS-SynonymousIP_Flood8.pcap.csv\n",
      "Processing file 79/309: /kaggle/input/cic-iot-dataset2023-updated-2024-10-08/CIC_IOT_Dataset2023/CSV/DDoS-SynonymousIP_Flood/DDoS-SynonymousIP_Flood.pcap.csv\n",
      "Processing file 80/309: /kaggle/input/cic-iot-dataset2023-updated-2024-10-08/CIC_IOT_Dataset2023/CSV/DDoS-SynonymousIP_Flood/DDoS-SynonymousIP_Flood1.pcap.csv\n",
      "Processing file 81/309: /kaggle/input/cic-iot-dataset2023-updated-2024-10-08/CIC_IOT_Dataset2023/CSV/DDoS-SynonymousIP_Flood/DDoS-SynonymousIP_Flood9.pcap.csv\n",
      "Processing file 82/309: /kaggle/input/cic-iot-dataset2023-updated-2024-10-08/CIC_IOT_Dataset2023/CSV/DDoS-SynonymousIP_Flood/DDoS-SynonymousIP_Flood11.pcap.csv\n",
      "Processing file 83/309: /kaggle/input/cic-iot-dataset2023-updated-2024-10-08/CIC_IOT_Dataset2023/CSV/DDoS-SynonymousIP_Flood/DDoS-SynonymousIP_Flood12.pcap.csv\n",
      "Processing file 84/309: /kaggle/input/cic-iot-dataset2023-updated-2024-10-08/CIC_IOT_Dataset2023/CSV/DDoS-SynonymousIP_Flood/DDoS-SynonymousIP_Flood3.pcap.csv\n",
      "Processing file 85/309: /kaggle/input/cic-iot-dataset2023-updated-2024-10-08/CIC_IOT_Dataset2023/CSV/DDoS-SynonymousIP_Flood/DDoS-SynonymousIP_Flood6.pcap.csv\n",
      "Processing file 86/309: /kaggle/input/cic-iot-dataset2023-updated-2024-10-08/CIC_IOT_Dataset2023/CSV/DDoS-SynonymousIP_Flood/DDoS-SynonymousIP_Flood7.pcap.csv\n",
      "Processing file 87/309: /kaggle/input/cic-iot-dataset2023-updated-2024-10-08/CIC_IOT_Dataset2023/CSV/DDoS-SynonymousIP_Flood/DDoS-SynonymousIP_Flood10.pcap.csv\n",
      "Processing file 88/309: /kaggle/input/cic-iot-dataset2023-updated-2024-10-08/CIC_IOT_Dataset2023/CSV/DDoS-SynonymousIP_Flood/DDoS-SynonymousIP_Flood5.pcap.csv\n",
      "Processing file 89/309: /kaggle/input/cic-iot-dataset2023-updated-2024-10-08/CIC_IOT_Dataset2023/CSV/DDoS-SynonymousIP_Flood/DDoS-SynonymousIP_Flood4.pcap.csv\n",
      "Processing file 90/309: /kaggle/input/cic-iot-dataset2023-updated-2024-10-08/CIC_IOT_Dataset2023/CSV/DDoS-SynonymousIP_Flood/DDoS-SynonymousIP_Flood13.pcap.csv\n",
      "Processing file 91/309: /kaggle/input/cic-iot-dataset2023-updated-2024-10-08/CIC_IOT_Dataset2023/CSV/DDoS-UDP_Fragmentation/DDoS-UDP_Fragmentation8.pcap.csv\n",
      "Processing file 92/309: /kaggle/input/cic-iot-dataset2023-updated-2024-10-08/CIC_IOT_Dataset2023/CSV/DDoS-UDP_Fragmentation/DDoS-UDP_Fragmentation5.pcap.csv\n",
      "Processing file 93/309: /kaggle/input/cic-iot-dataset2023-updated-2024-10-08/CIC_IOT_Dataset2023/CSV/DDoS-UDP_Fragmentation/DDoS-UDP_Fragmentation12.pcap.csv\n",
      "Processing file 94/309: /kaggle/input/cic-iot-dataset2023-updated-2024-10-08/CIC_IOT_Dataset2023/CSV/DDoS-UDP_Fragmentation/DDoS-UDP_Fragmentation7.pcap.csv\n",
      "Processing file 95/309: /kaggle/input/cic-iot-dataset2023-updated-2024-10-08/CIC_IOT_Dataset2023/CSV/DDoS-UDP_Fragmentation/DDoS-UDP_Fragmentation.pcap.csv\n",
      "Processing file 96/309: /kaggle/input/cic-iot-dataset2023-updated-2024-10-08/CIC_IOT_Dataset2023/CSV/DDoS-UDP_Fragmentation/DDoS-UDP_Fragmentation11.pcap.csv\n",
      "Processing file 97/309: /kaggle/input/cic-iot-dataset2023-updated-2024-10-08/CIC_IOT_Dataset2023/CSV/DDoS-UDP_Fragmentation/DDoS-UDP_Fragmentation1.pcap.csv\n",
      "Processing file 98/309: /kaggle/input/cic-iot-dataset2023-updated-2024-10-08/CIC_IOT_Dataset2023/CSV/DDoS-UDP_Fragmentation/DDoS-UDP_Fragmentation9.pcap.csv\n",
      "Processing file 99/309: /kaggle/input/cic-iot-dataset2023-updated-2024-10-08/CIC_IOT_Dataset2023/CSV/DDoS-UDP_Fragmentation/DDoS-UDP_Fragmentation6.pcap.csv\n",
      "Processing file 100/309: /kaggle/input/cic-iot-dataset2023-updated-2024-10-08/CIC_IOT_Dataset2023/CSV/DDoS-UDP_Fragmentation/DDoS-UDP_Fragmentation4.pcap.csv\n",
      "Processing file 101/309: /kaggle/input/cic-iot-dataset2023-updated-2024-10-08/CIC_IOT_Dataset2023/CSV/DDoS-UDP_Fragmentation/DDoS-UDP_Fragmentation10.pcap.csv\n",
      "Processing file 102/309: /kaggle/input/cic-iot-dataset2023-updated-2024-10-08/CIC_IOT_Dataset2023/CSV/DDoS-UDP_Fragmentation/DDoS-UDP_Fragmentation2.pcap.csv\n",
      "Processing file 103/309: /kaggle/input/cic-iot-dataset2023-updated-2024-10-08/CIC_IOT_Dataset2023/CSV/DDoS-UDP_Fragmentation/DDoS-UDP_Fragmentation3.pcap.csv\n",
      "Processing file 104/309: /kaggle/input/cic-iot-dataset2023-updated-2024-10-08/CIC_IOT_Dataset2023/CSV/DoS-TCP_Flood/DoS-TCP_Flood9.pcap.csv\n",
      "Processing file 105/309: /kaggle/input/cic-iot-dataset2023-updated-2024-10-08/CIC_IOT_Dataset2023/CSV/DoS-TCP_Flood/DoS-TCP_Flood5.pcap.csv\n",
      "Processing file 106/309: /kaggle/input/cic-iot-dataset2023-updated-2024-10-08/CIC_IOT_Dataset2023/CSV/DoS-TCP_Flood/DoS-TCP_Flood3.pcap.csv\n",
      "Processing file 107/309: /kaggle/input/cic-iot-dataset2023-updated-2024-10-08/CIC_IOT_Dataset2023/CSV/DoS-TCP_Flood/DoS-TCP_Flood6.pcap.csv\n",
      "Processing file 108/309: /kaggle/input/cic-iot-dataset2023-updated-2024-10-08/CIC_IOT_Dataset2023/CSV/DoS-TCP_Flood/DoS-TCP_Flood4.pcap.csv\n",
      "Processing file 109/309: /kaggle/input/cic-iot-dataset2023-updated-2024-10-08/CIC_IOT_Dataset2023/CSV/DoS-TCP_Flood/DoS-TCP_Flood7.pcap.csv\n",
      "Processing file 110/309: /kaggle/input/cic-iot-dataset2023-updated-2024-10-08/CIC_IOT_Dataset2023/CSV/DoS-TCP_Flood/DoS-TCP_Flood2.pcap.csv\n",
      "Processing file 111/309: /kaggle/input/cic-iot-dataset2023-updated-2024-10-08/CIC_IOT_Dataset2023/CSV/DoS-TCP_Flood/DoS-TCP_Flood1.pcap.csv\n",
      "Processing file 112/309: /kaggle/input/cic-iot-dataset2023-updated-2024-10-08/CIC_IOT_Dataset2023/CSV/DoS-TCP_Flood/DoS-TCP_Flood.pcap.csv\n",
      "Processing file 113/309: /kaggle/input/cic-iot-dataset2023-updated-2024-10-08/CIC_IOT_Dataset2023/CSV/DoS-TCP_Flood/DoS-TCP_Flood8.pcap.csv\n",
      "Processing file 114/309: /kaggle/input/cic-iot-dataset2023-updated-2024-10-08/CIC_IOT_Dataset2023/CSV/DoS-TCP_Flood/DoS-TCP_Flood10.pcap.csv\n",
      "Processing file 115/309: /kaggle/input/cic-iot-dataset2023-updated-2024-10-08/CIC_IOT_Dataset2023/CSV/DDoS-ACK_Fragmentation/DDoS-ACK_Fragmentation2.pcap.csv\n",
      "Processing file 116/309: /kaggle/input/cic-iot-dataset2023-updated-2024-10-08/CIC_IOT_Dataset2023/CSV/DDoS-ACK_Fragmentation/DDoS-ACK_Fragmentation9.pcap.csv\n",
      "Processing file 117/309: /kaggle/input/cic-iot-dataset2023-updated-2024-10-08/CIC_IOT_Dataset2023/CSV/DDoS-ACK_Fragmentation/DDoS-ACK_Fragmentation7.pcap.csv\n",
      "Processing file 118/309: /kaggle/input/cic-iot-dataset2023-updated-2024-10-08/CIC_IOT_Dataset2023/CSV/DDoS-ACK_Fragmentation/DDoS-ACK_Fragmentation3.pcap.csv\n",
      "Processing file 119/309: /kaggle/input/cic-iot-dataset2023-updated-2024-10-08/CIC_IOT_Dataset2023/CSV/DDoS-ACK_Fragmentation/DDoS-ACK_Fragmentation1.pcap.csv\n",
      "Processing file 120/309: /kaggle/input/cic-iot-dataset2023-updated-2024-10-08/CIC_IOT_Dataset2023/CSV/DDoS-ACK_Fragmentation/DDoS-ACK_Fragmentation8.pcap.csv\n",
      "Processing file 121/309: /kaggle/input/cic-iot-dataset2023-updated-2024-10-08/CIC_IOT_Dataset2023/CSV/DDoS-ACK_Fragmentation/DDoS-ACK_Fragmentation12.pcap.csv\n",
      "Processing file 122/309: /kaggle/input/cic-iot-dataset2023-updated-2024-10-08/CIC_IOT_Dataset2023/CSV/DDoS-ACK_Fragmentation/DDoS-ACK_Fragmentation5.pcap.csv\n",
      "Processing file 123/309: /kaggle/input/cic-iot-dataset2023-updated-2024-10-08/CIC_IOT_Dataset2023/CSV/DDoS-ACK_Fragmentation/DDoS-ACK_Fragmentation4.pcap.csv\n",
      "Processing file 124/309: /kaggle/input/cic-iot-dataset2023-updated-2024-10-08/CIC_IOT_Dataset2023/CSV/DDoS-ACK_Fragmentation/DDoS-ACK_Fragmentation6.pcap.csv\n",
      "Processing file 125/309: /kaggle/input/cic-iot-dataset2023-updated-2024-10-08/CIC_IOT_Dataset2023/CSV/DDoS-ACK_Fragmentation/DDoS-ACK_Fragmentation.pcap.csv\n",
      "Processing file 126/309: /kaggle/input/cic-iot-dataset2023-updated-2024-10-08/CIC_IOT_Dataset2023/CSV/DDoS-ACK_Fragmentation/DDoS-ACK_Fragmentation11.pcap.csv\n",
      "Processing file 127/309: /kaggle/input/cic-iot-dataset2023-updated-2024-10-08/CIC_IOT_Dataset2023/CSV/DDoS-ACK_Fragmentation/DDoS-ACK_Fragmentation10.pcap.csv\n",
      "Processing file 128/309: /kaggle/input/cic-iot-dataset2023-updated-2024-10-08/CIC_IOT_Dataset2023/CSV/DDoS-SlowLoris/DDoS-SlowLoris.pcap.csv\n",
      "Processing file 129/309: /kaggle/input/cic-iot-dataset2023-updated-2024-10-08/CIC_IOT_Dataset2023/CSV/DictionaryBruteForce/DictionaryBruteForce.pcap.csv\n",
      "Processing file 130/309: /kaggle/input/cic-iot-dataset2023-updated-2024-10-08/CIC_IOT_Dataset2023/CSV/Recon-OSScan/Recon-OSScan.pcap.csv\n",
      "Processing file 131/309: /kaggle/input/cic-iot-dataset2023-updated-2024-10-08/CIC_IOT_Dataset2023/CSV/Recon-HostDiscovery/Recon-HostDiscovery.pcap.csv\n",
      "Processing file 132/309: /kaggle/input/cic-iot-dataset2023-updated-2024-10-08/CIC_IOT_Dataset2023/CSV/DDoS-PSHACK_FLOOD/DDoS-PSHACK_Flood4.pcap.csv\n",
      "Processing file 133/309: /kaggle/input/cic-iot-dataset2023-updated-2024-10-08/CIC_IOT_Dataset2023/CSV/DDoS-PSHACK_FLOOD/DDoS-PSHACK_Flood1.pcap.csv\n",
      "Processing file 134/309: /kaggle/input/cic-iot-dataset2023-updated-2024-10-08/CIC_IOT_Dataset2023/CSV/DDoS-PSHACK_FLOOD/DDoS-PSHACK_Flood9.pcap.csv\n",
      "Processing file 135/309: /kaggle/input/cic-iot-dataset2023-updated-2024-10-08/CIC_IOT_Dataset2023/CSV/DDoS-PSHACK_FLOOD/DDoS-PSHACK_Flood.pcap.csv\n",
      "Processing file 136/309: /kaggle/input/cic-iot-dataset2023-updated-2024-10-08/CIC_IOT_Dataset2023/CSV/DDoS-PSHACK_FLOOD/DDoS-PSHACK_Flood15.pcap.csv\n",
      "Processing file 137/309: /kaggle/input/cic-iot-dataset2023-updated-2024-10-08/CIC_IOT_Dataset2023/CSV/DDoS-PSHACK_FLOOD/DDoS-PSHACK_Flood12.pcap.csv\n",
      "Processing file 138/309: /kaggle/input/cic-iot-dataset2023-updated-2024-10-08/CIC_IOT_Dataset2023/CSV/DDoS-PSHACK_FLOOD/DDoS-PSHACK_Flood3.pcap.csv\n",
      "Processing file 139/309: /kaggle/input/cic-iot-dataset2023-updated-2024-10-08/CIC_IOT_Dataset2023/CSV/DDoS-PSHACK_FLOOD/DDoS-PSHACK_Flood13.pcap.csv\n",
      "Processing file 140/309: /kaggle/input/cic-iot-dataset2023-updated-2024-10-08/CIC_IOT_Dataset2023/CSV/DDoS-PSHACK_FLOOD/DDoS-PSHACK_Flood10.pcap.csv\n",
      "Processing file 141/309: /kaggle/input/cic-iot-dataset2023-updated-2024-10-08/CIC_IOT_Dataset2023/CSV/DDoS-PSHACK_FLOOD/DDoS-PSHACK_Flood14.pcap.csv\n",
      "Processing file 142/309: /kaggle/input/cic-iot-dataset2023-updated-2024-10-08/CIC_IOT_Dataset2023/CSV/DDoS-PSHACK_FLOOD/DDoS-PSHACK_Flood5.pcap.csv\n",
      "Processing file 143/309: /kaggle/input/cic-iot-dataset2023-updated-2024-10-08/CIC_IOT_Dataset2023/CSV/DDoS-PSHACK_FLOOD/DDoS-PSHACK_Flood11.pcap.csv\n",
      "Processing file 144/309: /kaggle/input/cic-iot-dataset2023-updated-2024-10-08/CIC_IOT_Dataset2023/CSV/DDoS-PSHACK_FLOOD/DDoS-PSHACK_Flood2.pcap.csv\n",
      "Processing file 145/309: /kaggle/input/cic-iot-dataset2023-updated-2024-10-08/CIC_IOT_Dataset2023/CSV/DDoS-PSHACK_FLOOD/DDoS-PSHACK_Flood8.pcap.csv\n",
      "Processing file 146/309: /kaggle/input/cic-iot-dataset2023-updated-2024-10-08/CIC_IOT_Dataset2023/CSV/DDoS-PSHACK_FLOOD/DDoS-PSHACK_Flood7.pcap.csv\n",
      "Processing file 147/309: /kaggle/input/cic-iot-dataset2023-updated-2024-10-08/CIC_IOT_Dataset2023/CSV/DDoS-PSHACK_FLOOD/DDoS-PSHACK_Flood6.pcap.csv\n",
      "Processing file 148/309: /kaggle/input/cic-iot-dataset2023-updated-2024-10-08/CIC_IOT_Dataset2023/CSV/Mirai-greip_flood/Mirai-greip_flood15.pcap.csv\n",
      "Processing file 149/309: /kaggle/input/cic-iot-dataset2023-updated-2024-10-08/CIC_IOT_Dataset2023/CSV/Mirai-greip_flood/Mirai-greip_flood.pcap.csv\n",
      "Processing file 150/309: /kaggle/input/cic-iot-dataset2023-updated-2024-10-08/CIC_IOT_Dataset2023/CSV/Mirai-greip_flood/Mirai-greip_flood16.pcap.csv\n",
      "Processing file 151/309: /kaggle/input/cic-iot-dataset2023-updated-2024-10-08/CIC_IOT_Dataset2023/CSV/Mirai-greip_flood/Mirai-greip_flood18.pcap.csv\n",
      "Processing file 152/309: /kaggle/input/cic-iot-dataset2023-updated-2024-10-08/CIC_IOT_Dataset2023/CSV/Mirai-greip_flood/Mirai-greip_flood20.pcap.csv\n",
      "Processing file 153/309: /kaggle/input/cic-iot-dataset2023-updated-2024-10-08/CIC_IOT_Dataset2023/CSV/Mirai-greip_flood/Mirai-greip_flood4.pcap.csv\n",
      "Processing file 154/309: /kaggle/input/cic-iot-dataset2023-updated-2024-10-08/CIC_IOT_Dataset2023/CSV/Mirai-greip_flood/Mirai-greip_flood9.pcap.csv\n",
      "Processing file 155/309: /kaggle/input/cic-iot-dataset2023-updated-2024-10-08/CIC_IOT_Dataset2023/CSV/Mirai-greip_flood/Mirai-greip_flood8.pcap.csv\n",
      "Processing file 156/309: /kaggle/input/cic-iot-dataset2023-updated-2024-10-08/CIC_IOT_Dataset2023/CSV/Mirai-greip_flood/Mirai-greip_flood2.pcap.csv\n",
      "Processing file 157/309: /kaggle/input/cic-iot-dataset2023-updated-2024-10-08/CIC_IOT_Dataset2023/CSV/Mirai-greip_flood/Mirai-greip_flood13.pcap.csv\n",
      "Processing file 158/309: /kaggle/input/cic-iot-dataset2023-updated-2024-10-08/CIC_IOT_Dataset2023/CSV/Mirai-greip_flood/Mirai-greip_flood12.pcap.csv\n",
      "Processing file 159/309: /kaggle/input/cic-iot-dataset2023-updated-2024-10-08/CIC_IOT_Dataset2023/CSV/Mirai-greip_flood/Mirai-greip_flood6.pcap.csv\n",
      "Processing file 160/309: /kaggle/input/cic-iot-dataset2023-updated-2024-10-08/CIC_IOT_Dataset2023/CSV/Mirai-greip_flood/Mirai-greip_flood1.pcap.csv\n",
      "Processing file 161/309: /kaggle/input/cic-iot-dataset2023-updated-2024-10-08/CIC_IOT_Dataset2023/CSV/Mirai-greip_flood/Mirai-greip_flood14.pcap.csv\n",
      "Processing file 162/309: /kaggle/input/cic-iot-dataset2023-updated-2024-10-08/CIC_IOT_Dataset2023/CSV/Mirai-greip_flood/Mirai-greip_flood3.pcap.csv\n",
      "Processing file 163/309: /kaggle/input/cic-iot-dataset2023-updated-2024-10-08/CIC_IOT_Dataset2023/CSV/Mirai-greip_flood/Mirai-greip_flood10.pcap.csv\n",
      "Processing file 164/309: /kaggle/input/cic-iot-dataset2023-updated-2024-10-08/CIC_IOT_Dataset2023/CSV/Mirai-greip_flood/Mirai-greip_flood11.pcap.csv\n",
      "Processing file 165/309: /kaggle/input/cic-iot-dataset2023-updated-2024-10-08/CIC_IOT_Dataset2023/CSV/Mirai-greip_flood/Mirai-greip_flood5.pcap.csv\n",
      "Processing file 166/309: /kaggle/input/cic-iot-dataset2023-updated-2024-10-08/CIC_IOT_Dataset2023/CSV/Mirai-greip_flood/Mirai-greip_flood7.pcap.csv\n",
      "Processing file 167/309: /kaggle/input/cic-iot-dataset2023-updated-2024-10-08/CIC_IOT_Dataset2023/CSV/Mirai-greip_flood/Mirai-greip_flood19.pcap.csv\n",
      "Processing file 168/309: /kaggle/input/cic-iot-dataset2023-updated-2024-10-08/CIC_IOT_Dataset2023/CSV/Mirai-greip_flood/Mirai-greip_flood21.pcap.csv\n",
      "Processing file 169/309: /kaggle/input/cic-iot-dataset2023-updated-2024-10-08/CIC_IOT_Dataset2023/CSV/Mirai-greip_flood/Mirai-greip_flood17.pcap.csv\n",
      "Processing file 170/309: /kaggle/input/cic-iot-dataset2023-updated-2024-10-08/CIC_IOT_Dataset2023/CSV/DDoS-ICMP_Flood/DDoS-ICMP_Flood22.pcap.csv\n",
      "Processing file 171/309: /kaggle/input/cic-iot-dataset2023-updated-2024-10-08/CIC_IOT_Dataset2023/CSV/DDoS-ICMP_Flood/DDoS-ICMP_Flood3.pcap.csv\n",
      "Processing file 172/309: /kaggle/input/cic-iot-dataset2023-updated-2024-10-08/CIC_IOT_Dataset2023/CSV/DDoS-ICMP_Flood/DDoS-ICMP_Flood5.pcap.csv\n",
      "Processing file 173/309: /kaggle/input/cic-iot-dataset2023-updated-2024-10-08/CIC_IOT_Dataset2023/CSV/DDoS-ICMP_Flood/DDoS-ICMP_Flood26.pcap.csv\n",
      "Processing file 174/309: /kaggle/input/cic-iot-dataset2023-updated-2024-10-08/CIC_IOT_Dataset2023/CSV/DDoS-ICMP_Flood/DDoS-ICMP_Flood17.pcap.csv\n",
      "Processing file 175/309: /kaggle/input/cic-iot-dataset2023-updated-2024-10-08/CIC_IOT_Dataset2023/CSV/DDoS-ICMP_Flood/DDoS-ICMP_Flood6.pcap.csv\n",
      "Processing file 176/309: /kaggle/input/cic-iot-dataset2023-updated-2024-10-08/CIC_IOT_Dataset2023/CSV/DDoS-ICMP_Flood/DDoS-ICMP_Flood13.pcap.csv\n",
      "Processing file 177/309: /kaggle/input/cic-iot-dataset2023-updated-2024-10-08/CIC_IOT_Dataset2023/CSV/DDoS-ICMP_Flood/DDoS-ICMP_Flood19.pcap.csv\n",
      "Processing file 178/309: /kaggle/input/cic-iot-dataset2023-updated-2024-10-08/CIC_IOT_Dataset2023/CSV/DDoS-ICMP_Flood/DDoS-ICMP_Flood10.pcap.csv\n",
      "Processing file 179/309: /kaggle/input/cic-iot-dataset2023-updated-2024-10-08/CIC_IOT_Dataset2023/CSV/DDoS-ICMP_Flood/DDoS-ICMP_Flood.pcap.csv\n",
      "Processing file 180/309: /kaggle/input/cic-iot-dataset2023-updated-2024-10-08/CIC_IOT_Dataset2023/CSV/DDoS-ICMP_Flood/DDoS-ICMP_Flood25.pcap.csv\n",
      "Processing file 181/309: /kaggle/input/cic-iot-dataset2023-updated-2024-10-08/CIC_IOT_Dataset2023/CSV/DDoS-ICMP_Flood/DDoS-ICMP_Flood4.pcap.csv\n",
      "Processing file 182/309: /kaggle/input/cic-iot-dataset2023-updated-2024-10-08/CIC_IOT_Dataset2023/CSV/DDoS-ICMP_Flood/DDoS-ICMP_Flood14.pcap.csv\n",
      "Processing file 183/309: /kaggle/input/cic-iot-dataset2023-updated-2024-10-08/CIC_IOT_Dataset2023/CSV/DDoS-ICMP_Flood/DDoS-ICMP_Flood2.pcap.csv\n",
      "Processing file 184/309: /kaggle/input/cic-iot-dataset2023-updated-2024-10-08/CIC_IOT_Dataset2023/CSV/DDoS-ICMP_Flood/DDoS-ICMP_Flood23.pcap.csv\n",
      "Processing file 185/309: /kaggle/input/cic-iot-dataset2023-updated-2024-10-08/CIC_IOT_Dataset2023/CSV/DDoS-ICMP_Flood/DDoS-ICMP_Flood9.pcap.csv\n",
      "Processing file 186/309: /kaggle/input/cic-iot-dataset2023-updated-2024-10-08/CIC_IOT_Dataset2023/CSV/DDoS-ICMP_Flood/DDoS-ICMP_Flood16.pcap.csv\n",
      "Processing file 187/309: /kaggle/input/cic-iot-dataset2023-updated-2024-10-08/CIC_IOT_Dataset2023/CSV/DDoS-ICMP_Flood/DDoS-ICMP_Flood12.pcap.csv\n",
      "Processing file 188/309: /kaggle/input/cic-iot-dataset2023-updated-2024-10-08/CIC_IOT_Dataset2023/CSV/DDoS-ICMP_Flood/DDoS-ICMP_Flood21.pcap.csv\n",
      "Processing file 189/309: /kaggle/input/cic-iot-dataset2023-updated-2024-10-08/CIC_IOT_Dataset2023/CSV/DDoS-ICMP_Flood/DDoS-ICMP_Flood15.pcap.csv\n",
      "Processing file 190/309: /kaggle/input/cic-iot-dataset2023-updated-2024-10-08/CIC_IOT_Dataset2023/CSV/DDoS-ICMP_Flood/DDoS-ICMP_Flood7.pcap.csv\n",
      "Processing file 191/309: /kaggle/input/cic-iot-dataset2023-updated-2024-10-08/CIC_IOT_Dataset2023/CSV/DDoS-ICMP_Flood/DDoS-ICMP_Flood24.pcap.csv\n",
      "Processing file 192/309: /kaggle/input/cic-iot-dataset2023-updated-2024-10-08/CIC_IOT_Dataset2023/CSV/DDoS-ICMP_Flood/DDoS-ICMP_Flood20.pcap.csv\n",
      "Processing file 193/309: /kaggle/input/cic-iot-dataset2023-updated-2024-10-08/CIC_IOT_Dataset2023/CSV/DDoS-ICMP_Flood/DDoS-ICMP_Flood1.pcap.csv\n",
      "Processing file 194/309: /kaggle/input/cic-iot-dataset2023-updated-2024-10-08/CIC_IOT_Dataset2023/CSV/DDoS-ICMP_Flood/DDoS-ICMP_Flood18.pcap.csv\n",
      "Processing file 195/309: /kaggle/input/cic-iot-dataset2023-updated-2024-10-08/CIC_IOT_Dataset2023/CSV/DDoS-ICMP_Flood/DDoS-ICMP_Flood8.pcap.csv\n",
      "Processing file 196/309: /kaggle/input/cic-iot-dataset2023-updated-2024-10-08/CIC_IOT_Dataset2023/CSV/DDoS-ICMP_Flood/DDoS-ICMP_Flood11.pcap.csv\n",
      "Processing file 197/309: /kaggle/input/cic-iot-dataset2023-updated-2024-10-08/CIC_IOT_Dataset2023/CSV/Backdoor_Malware/Backdoor_Malware.pcap.csv\n",
      "Processing file 198/309: /kaggle/input/cic-iot-dataset2023-updated-2024-10-08/CIC_IOT_Dataset2023/CSV/DoS-UDP_Flood/DoS-UDP_Flood12.pcap.csv\n",
      "Processing file 199/309: /kaggle/input/cic-iot-dataset2023-updated-2024-10-08/CIC_IOT_Dataset2023/CSV/DoS-UDP_Flood/DoS-UDP_Flood5.pcap.csv\n",
      "Processing file 200/309: /kaggle/input/cic-iot-dataset2023-updated-2024-10-08/CIC_IOT_Dataset2023/CSV/DoS-UDP_Flood/DoS-UDP_Flood2.pcap.csv\n",
      "Processing file 201/309: /kaggle/input/cic-iot-dataset2023-updated-2024-10-08/CIC_IOT_Dataset2023/CSV/DoS-UDP_Flood/DoS-UDP_Flood9.pcap.csv\n",
      "Processing file 202/309: /kaggle/input/cic-iot-dataset2023-updated-2024-10-08/CIC_IOT_Dataset2023/CSV/DoS-UDP_Flood/DoS-UDP_Flood14.pcap.csv\n",
      "Processing file 203/309: /kaggle/input/cic-iot-dataset2023-updated-2024-10-08/CIC_IOT_Dataset2023/CSV/DoS-UDP_Flood/DoS-UDP_Flood16.pcap.csv\n",
      "Processing file 204/309: /kaggle/input/cic-iot-dataset2023-updated-2024-10-08/CIC_IOT_Dataset2023/CSV/DoS-UDP_Flood/DoS-UDP_Flood1.pcap.csv\n",
      "Processing file 205/309: /kaggle/input/cic-iot-dataset2023-updated-2024-10-08/CIC_IOT_Dataset2023/CSV/DoS-UDP_Flood/DoS-UDP_Flood.pcap.csv\n",
      "Processing file 206/309: /kaggle/input/cic-iot-dataset2023-updated-2024-10-08/CIC_IOT_Dataset2023/CSV/DoS-UDP_Flood/DoS-UDP_Flood3.pcap.csv\n",
      "Processing file 207/309: /kaggle/input/cic-iot-dataset2023-updated-2024-10-08/CIC_IOT_Dataset2023/CSV/DoS-UDP_Flood/DoS-UDP_Flood4.pcap.csv\n",
      "Processing file 208/309: /kaggle/input/cic-iot-dataset2023-updated-2024-10-08/CIC_IOT_Dataset2023/CSV/DoS-UDP_Flood/DoS-UDP_Flood8.pcap.csv\n",
      "Processing file 209/309: /kaggle/input/cic-iot-dataset2023-updated-2024-10-08/CIC_IOT_Dataset2023/CSV/DoS-UDP_Flood/DoS-UDP_Flood11.pcap.csv\n",
      "Processing file 210/309: /kaggle/input/cic-iot-dataset2023-updated-2024-10-08/CIC_IOT_Dataset2023/CSV/DoS-UDP_Flood/DoS-UDP_Flood6.pcap.csv\n",
      "Processing file 211/309: /kaggle/input/cic-iot-dataset2023-updated-2024-10-08/CIC_IOT_Dataset2023/CSV/DoS-UDP_Flood/DoS-UDP_Flood13.pcap.csv\n",
      "Processing file 212/309: /kaggle/input/cic-iot-dataset2023-updated-2024-10-08/CIC_IOT_Dataset2023/CSV/DoS-UDP_Flood/DoS-UDP_Flood10.pcap.csv\n",
      "Processing file 213/309: /kaggle/input/cic-iot-dataset2023-updated-2024-10-08/CIC_IOT_Dataset2023/CSV/DoS-UDP_Flood/DoS-UDP_Flood7.pcap.csv\n",
      "Processing file 214/309: /kaggle/input/cic-iot-dataset2023-updated-2024-10-08/CIC_IOT_Dataset2023/CSV/DoS-UDP_Flood/DoS-UDP_Flood15.pcap.csv\n",
      "Processing file 215/309: /kaggle/input/cic-iot-dataset2023-updated-2024-10-08/CIC_IOT_Dataset2023/CSV/DDoS-HTTP_Flood/DDoS-HTTP_Flood-.pcap.csv\n",
      "Processing file 216/309: /kaggle/input/cic-iot-dataset2023-updated-2024-10-08/CIC_IOT_Dataset2023/CSV/CommandInjection/CommandInjection.pcap.csv\n",
      "Processing file 217/309: /kaggle/input/cic-iot-dataset2023-updated-2024-10-08/CIC_IOT_Dataset2023/CSV/Mirai-greeth_flood/Mirai-greeth_flood.pcap.csv\n",
      "Processing file 218/309: /kaggle/input/cic-iot-dataset2023-updated-2024-10-08/CIC_IOT_Dataset2023/CSV/Mirai-greeth_flood/Mirai-greeth_flood11.pcap.csv\n",
      "Processing file 219/309: /kaggle/input/cic-iot-dataset2023-updated-2024-10-08/CIC_IOT_Dataset2023/CSV/Mirai-greeth_flood/Mirai-greeth_flood19.pcap.csv\n",
      "Processing file 220/309: /kaggle/input/cic-iot-dataset2023-updated-2024-10-08/CIC_IOT_Dataset2023/CSV/Mirai-greeth_flood/Mirai-greeth_flood10.pcap.csv\n",
      "Processing file 221/309: /kaggle/input/cic-iot-dataset2023-updated-2024-10-08/CIC_IOT_Dataset2023/CSV/Mirai-greeth_flood/Mirai-greeth_flood17.pcap.csv\n",
      "Processing file 222/309: /kaggle/input/cic-iot-dataset2023-updated-2024-10-08/CIC_IOT_Dataset2023/CSV/Mirai-greeth_flood/Mirai-greeth_flood3.pcap.csv\n",
      "Processing file 223/309: /kaggle/input/cic-iot-dataset2023-updated-2024-10-08/CIC_IOT_Dataset2023/CSV/Mirai-greeth_flood/Mirai-greeth_flood15.pcap.csv\n",
      "Processing file 224/309: /kaggle/input/cic-iot-dataset2023-updated-2024-10-08/CIC_IOT_Dataset2023/CSV/Mirai-greeth_flood/Mirai-greeth_flood6.pcap.csv\n",
      "Processing file 225/309: /kaggle/input/cic-iot-dataset2023-updated-2024-10-08/CIC_IOT_Dataset2023/CSV/Mirai-greeth_flood/Mirai-greeth_flood2.pcap.csv\n",
      "Processing file 226/309: /kaggle/input/cic-iot-dataset2023-updated-2024-10-08/CIC_IOT_Dataset2023/CSV/Mirai-greeth_flood/Mirai-greeth_flood23.pcap.csv\n",
      "Processing file 227/309: /kaggle/input/cic-iot-dataset2023-updated-2024-10-08/CIC_IOT_Dataset2023/CSV/Mirai-greeth_flood/Mirai-greeth_flood16.pcap.csv\n",
      "Processing file 228/309: /kaggle/input/cic-iot-dataset2023-updated-2024-10-08/CIC_IOT_Dataset2023/CSV/Mirai-greeth_flood/Mirai-greeth_flood21.pcap.csv\n",
      "Processing file 229/309: /kaggle/input/cic-iot-dataset2023-updated-2024-10-08/CIC_IOT_Dataset2023/CSV/Mirai-greeth_flood/Mirai-greeth_flood7.pcap.csv\n",
      "Processing file 230/309: /kaggle/input/cic-iot-dataset2023-updated-2024-10-08/CIC_IOT_Dataset2023/CSV/Mirai-greeth_flood/Mirai-greeth_flood12.pcap.csv\n",
      "Processing file 231/309: /kaggle/input/cic-iot-dataset2023-updated-2024-10-08/CIC_IOT_Dataset2023/CSV/Mirai-greeth_flood/Mirai-greeth_flood1.pcap.csv\n",
      "Processing file 232/309: /kaggle/input/cic-iot-dataset2023-updated-2024-10-08/CIC_IOT_Dataset2023/CSV/Mirai-greeth_flood/Mirai-greeth_flood27.pcap.csv\n",
      "Processing file 233/309: /kaggle/input/cic-iot-dataset2023-updated-2024-10-08/CIC_IOT_Dataset2023/CSV/Mirai-greeth_flood/Mirai-greeth_flood13.pcap.csv\n",
      "Processing file 234/309: /kaggle/input/cic-iot-dataset2023-updated-2024-10-08/CIC_IOT_Dataset2023/CSV/Mirai-greeth_flood/Mirai-greeth_flood14.pcap.csv\n",
      "Processing file 235/309: /kaggle/input/cic-iot-dataset2023-updated-2024-10-08/CIC_IOT_Dataset2023/CSV/Mirai-greeth_flood/Mirai-greeth_flood4.pcap.csv\n",
      "Processing file 236/309: /kaggle/input/cic-iot-dataset2023-updated-2024-10-08/CIC_IOT_Dataset2023/CSV/Mirai-greeth_flood/Mirai-greeth_flood24.pcap.csv\n",
      "Processing file 237/309: /kaggle/input/cic-iot-dataset2023-updated-2024-10-08/CIC_IOT_Dataset2023/CSV/Mirai-greeth_flood/Mirai-greeth_flood8.pcap.csv\n",
      "Processing file 238/309: /kaggle/input/cic-iot-dataset2023-updated-2024-10-08/CIC_IOT_Dataset2023/CSV/Mirai-greeth_flood/Mirai-greeth_flood26.pcap.csv\n",
      "Processing file 239/309: /kaggle/input/cic-iot-dataset2023-updated-2024-10-08/CIC_IOT_Dataset2023/CSV/Mirai-greeth_flood/Mirai-greeth_flood18.pcap.csv\n",
      "Processing file 240/309: /kaggle/input/cic-iot-dataset2023-updated-2024-10-08/CIC_IOT_Dataset2023/CSV/Mirai-greeth_flood/Mirai-greeth_flood9.pcap.csv\n",
      "Processing file 241/309: /kaggle/input/cic-iot-dataset2023-updated-2024-10-08/CIC_IOT_Dataset2023/CSV/Mirai-greeth_flood/Mirai-greeth_flood22.pcap.csv\n",
      "Processing file 242/309: /kaggle/input/cic-iot-dataset2023-updated-2024-10-08/CIC_IOT_Dataset2023/CSV/Mirai-greeth_flood/Mirai-greeth_flood25.pcap.csv\n",
      "Processing file 243/309: /kaggle/input/cic-iot-dataset2023-updated-2024-10-08/CIC_IOT_Dataset2023/CSV/Mirai-greeth_flood/Mirai-greeth_flood5.pcap.csv\n",
      "Processing file 244/309: /kaggle/input/cic-iot-dataset2023-updated-2024-10-08/CIC_IOT_Dataset2023/CSV/Mirai-greeth_flood/Mirai-greeth_flood28.pcap.csv\n",
      "Processing file 245/309: /kaggle/input/cic-iot-dataset2023-updated-2024-10-08/CIC_IOT_Dataset2023/CSV/Mirai-greeth_flood/Mirai-greeth_flood20.pcap.csv\n",
      "Processing file 246/309: /kaggle/input/cic-iot-dataset2023-updated-2024-10-08/CIC_IOT_Dataset2023/CSV/XSS/XSS.pcap.csv\n",
      "Processing file 247/309: /kaggle/input/cic-iot-dataset2023-updated-2024-10-08/CIC_IOT_Dataset2023/CSV/DDoS-ICMP_Fragmentation/DDoS-ICMP_Fragmentation6.pcap.csv\n",
      "Processing file 248/309: /kaggle/input/cic-iot-dataset2023-updated-2024-10-08/CIC_IOT_Dataset2023/CSV/DDoS-ICMP_Fragmentation/DDoS-ICMP_Fragmentation12.pcap.csv\n",
      "Processing file 249/309: /kaggle/input/cic-iot-dataset2023-updated-2024-10-08/CIC_IOT_Dataset2023/CSV/DDoS-ICMP_Fragmentation/DDoS-ICMP_Fragmentation15.pcap.csv\n",
      "Processing file 250/309: /kaggle/input/cic-iot-dataset2023-updated-2024-10-08/CIC_IOT_Dataset2023/CSV/DDoS-ICMP_Fragmentation/DDoS-ICMP_Fragmentation5.pcap.csv\n",
      "Processing file 251/309: /kaggle/input/cic-iot-dataset2023-updated-2024-10-08/CIC_IOT_Dataset2023/CSV/DDoS-ICMP_Fragmentation/DDoS-ICMP_Fragmentation16.pcap.csv\n",
      "Processing file 252/309: /kaggle/input/cic-iot-dataset2023-updated-2024-10-08/CIC_IOT_Dataset2023/CSV/DDoS-ICMP_Fragmentation/DDoS-ICMP_Fragmentation19.pcap.csv\n",
      "Processing file 253/309: /kaggle/input/cic-iot-dataset2023-updated-2024-10-08/CIC_IOT_Dataset2023/CSV/DDoS-ICMP_Fragmentation/DDoS-ICMP_Fragmentation14.pcap.csv\n",
      "Processing file 254/309: /kaggle/input/cic-iot-dataset2023-updated-2024-10-08/CIC_IOT_Dataset2023/CSV/DDoS-ICMP_Fragmentation/DDoS-ICMP_Fragmentation3.pcap.csv\n",
      "Processing file 255/309: /kaggle/input/cic-iot-dataset2023-updated-2024-10-08/CIC_IOT_Dataset2023/CSV/DDoS-ICMP_Fragmentation/DDoS-ICMP_Fragmentation17.pcap.csv\n",
      "Processing file 256/309: /kaggle/input/cic-iot-dataset2023-updated-2024-10-08/CIC_IOT_Dataset2023/CSV/DDoS-ICMP_Fragmentation/DDoS-ICMP_Fragmentation18.pcap.csv\n",
      "Processing file 257/309: /kaggle/input/cic-iot-dataset2023-updated-2024-10-08/CIC_IOT_Dataset2023/CSV/DDoS-ICMP_Fragmentation/DDoS-ICMP_Fragmentation13.pcap.csv\n",
      "Processing file 258/309: /kaggle/input/cic-iot-dataset2023-updated-2024-10-08/CIC_IOT_Dataset2023/CSV/DDoS-ICMP_Fragmentation/DDoS-ICMP_Fragmentation11.pcap.csv\n",
      "Processing file 259/309: /kaggle/input/cic-iot-dataset2023-updated-2024-10-08/CIC_IOT_Dataset2023/CSV/DDoS-ICMP_Fragmentation/DDoS-ICMP_Fragmentation10.pcap.csv\n",
      "Processing file 260/309: /kaggle/input/cic-iot-dataset2023-updated-2024-10-08/CIC_IOT_Dataset2023/CSV/DDoS-ICMP_Fragmentation/DDoS-ICMP_Fragmentation.pcap.csv\n",
      "Processing file 261/309: /kaggle/input/cic-iot-dataset2023-updated-2024-10-08/CIC_IOT_Dataset2023/CSV/DDoS-ICMP_Fragmentation/DDoS-ICMP_Fragmentation2.pcap.csv\n",
      "Processing file 262/309: /kaggle/input/cic-iot-dataset2023-updated-2024-10-08/CIC_IOT_Dataset2023/CSV/DDoS-ICMP_Fragmentation/DDoS-ICMP_Fragmentation8.pcap.csv\n",
      "Processing file 263/309: /kaggle/input/cic-iot-dataset2023-updated-2024-10-08/CIC_IOT_Dataset2023/CSV/DDoS-ICMP_Fragmentation/DDoS-ICMP_Fragmentation9.pcap.csv\n",
      "Processing file 264/309: /kaggle/input/cic-iot-dataset2023-updated-2024-10-08/CIC_IOT_Dataset2023/CSV/DDoS-ICMP_Fragmentation/DDoS-ICMP_Fragmentation1.pcap.csv\n",
      "Processing file 265/309: /kaggle/input/cic-iot-dataset2023-updated-2024-10-08/CIC_IOT_Dataset2023/CSV/DDoS-ICMP_Fragmentation/DDoS-ICMP_Fragmentation7.pcap.csv\n",
      "Processing file 266/309: /kaggle/input/cic-iot-dataset2023-updated-2024-10-08/CIC_IOT_Dataset2023/CSV/DDoS-ICMP_Fragmentation/DDoS-ICMP_Fragmentation4.pcap.csv\n",
      "Processing file 267/309: /kaggle/input/cic-iot-dataset2023-updated-2024-10-08/CIC_IOT_Dataset2023/CSV/VulnerabilityScan/VulnerabilityScan.pcap.csv\n",
      "Processing file 268/309: /kaggle/input/cic-iot-dataset2023-updated-2024-10-08/CIC_IOT_Dataset2023/CSV/Uploading_Attack/Uploading_Attack.pcap.csv\n",
      "Processing file 269/309: /kaggle/input/cic-iot-dataset2023-updated-2024-10-08/CIC_IOT_Dataset2023/CSV/DDoS-TCP_Flood/DDoS-TCP_Flood.pcap.csv\n",
      "Processing file 270/309: /kaggle/input/cic-iot-dataset2023-updated-2024-10-08/CIC_IOT_Dataset2023/CSV/DDoS-TCP_Flood/DDoS-TCP_Flood15.pcap.csv\n",
      "Processing file 271/309: /kaggle/input/cic-iot-dataset2023-updated-2024-10-08/CIC_IOT_Dataset2023/CSV/DDoS-TCP_Flood/DDoS-TCP_Flood7.pcap.csv\n",
      "Processing file 272/309: /kaggle/input/cic-iot-dataset2023-updated-2024-10-08/CIC_IOT_Dataset2023/CSV/DDoS-TCP_Flood/DDoS-TCP_Flood3.pcap.csv\n",
      "Processing file 273/309: /kaggle/input/cic-iot-dataset2023-updated-2024-10-08/CIC_IOT_Dataset2023/CSV/DDoS-TCP_Flood/DDoS-TCP_Flood17.pcap.csv\n",
      "Processing file 274/309: /kaggle/input/cic-iot-dataset2023-updated-2024-10-08/CIC_IOT_Dataset2023/CSV/DDoS-TCP_Flood/DDoS-TCP_Flood1.pcap.csv\n",
      "Processing file 275/309: /kaggle/input/cic-iot-dataset2023-updated-2024-10-08/CIC_IOT_Dataset2023/CSV/DDoS-TCP_Flood/DDoS-TCP_Flood2.pcap.csv\n",
      "Processing file 276/309: /kaggle/input/cic-iot-dataset2023-updated-2024-10-08/CIC_IOT_Dataset2023/CSV/DDoS-TCP_Flood/DDoS-TCP_Flood14.pcap.csv\n",
      "Processing file 277/309: /kaggle/input/cic-iot-dataset2023-updated-2024-10-08/CIC_IOT_Dataset2023/CSV/DDoS-TCP_Flood/DDoS-TCP_Flood8.pcap.csv\n",
      "Processing file 278/309: /kaggle/input/cic-iot-dataset2023-updated-2024-10-08/CIC_IOT_Dataset2023/CSV/DDoS-TCP_Flood/DDoS-TCP_Flood13.pcap.csv\n",
      "Processing file 279/309: /kaggle/input/cic-iot-dataset2023-updated-2024-10-08/CIC_IOT_Dataset2023/CSV/DDoS-TCP_Flood/DDoS-TCP_Flood11.pcap.csv\n",
      "Processing file 280/309: /kaggle/input/cic-iot-dataset2023-updated-2024-10-08/CIC_IOT_Dataset2023/CSV/DDoS-TCP_Flood/DDoS-TCP_Flood5.pcap.csv\n",
      "Processing file 281/309: /kaggle/input/cic-iot-dataset2023-updated-2024-10-08/CIC_IOT_Dataset2023/CSV/DDoS-TCP_Flood/DDoS-TCP_Flood16.pcap.csv\n",
      "Processing file 282/309: /kaggle/input/cic-iot-dataset2023-updated-2024-10-08/CIC_IOT_Dataset2023/CSV/DDoS-TCP_Flood/DDoS-TCP_Flood9.pcap.csv\n",
      "Processing file 283/309: /kaggle/input/cic-iot-dataset2023-updated-2024-10-08/CIC_IOT_Dataset2023/CSV/DDoS-TCP_Flood/DDoS-TCP_Flood10.pcap.csv\n",
      "Processing file 284/309: /kaggle/input/cic-iot-dataset2023-updated-2024-10-08/CIC_IOT_Dataset2023/CSV/DDoS-TCP_Flood/DDoS-TCP_Flood4.pcap.csv\n",
      "Processing file 285/309: /kaggle/input/cic-iot-dataset2023-updated-2024-10-08/CIC_IOT_Dataset2023/CSV/DDoS-TCP_Flood/DDoS-TCP_Flood6.pcap.csv\n",
      "Processing file 286/309: /kaggle/input/cic-iot-dataset2023-updated-2024-10-08/CIC_IOT_Dataset2023/CSV/DDoS-TCP_Flood/DDoS-TCP_Flood12.pcap.csv\n",
      "Processing file 287/309: /kaggle/input/cic-iot-dataset2023-updated-2024-10-08/CIC_IOT_Dataset2023/CSV/SqlInjection/SqlInjection.pcap.csv\n",
      "Processing file 288/309: /kaggle/input/cic-iot-dataset2023-updated-2024-10-08/CIC_IOT_Dataset2023/CSV/DDoS-UDP_Flood/DDoS-UDP_Flood.pcap.csv\n",
      "Processing file 289/309: /kaggle/input/cic-iot-dataset2023-updated-2024-10-08/CIC_IOT_Dataset2023/CSV/DDoS-UDP_Flood/DDoS-UDP_Flood2.pcap.csv\n",
      "Processing file 290/309: /kaggle/input/cic-iot-dataset2023-updated-2024-10-08/CIC_IOT_Dataset2023/CSV/DDoS-UDP_Flood/DDoS-UDP_Flood20.pcap.csv\n",
      "Processing file 291/309: /kaggle/input/cic-iot-dataset2023-updated-2024-10-08/CIC_IOT_Dataset2023/CSV/DDoS-UDP_Flood/DDoS-UDP_Flood9.pcap.csv\n",
      "Processing file 292/309: /kaggle/input/cic-iot-dataset2023-updated-2024-10-08/CIC_IOT_Dataset2023/CSV/DDoS-UDP_Flood/DDoS-UDP_Flood16.pcap.csv\n",
      "Processing file 293/309: /kaggle/input/cic-iot-dataset2023-updated-2024-10-08/CIC_IOT_Dataset2023/CSV/DDoS-UDP_Flood/DDoS-UDP_Flood1.pcap.csv\n",
      "Processing file 294/309: /kaggle/input/cic-iot-dataset2023-updated-2024-10-08/CIC_IOT_Dataset2023/CSV/DDoS-UDP_Flood/DDoS-UDP_Flood6.pcap.csv\n",
      "Processing file 295/309: /kaggle/input/cic-iot-dataset2023-updated-2024-10-08/CIC_IOT_Dataset2023/CSV/DDoS-UDP_Flood/DDoS-UDP_Flood14.pcap.csv\n",
      "Processing file 296/309: /kaggle/input/cic-iot-dataset2023-updated-2024-10-08/CIC_IOT_Dataset2023/CSV/DDoS-UDP_Flood/DDoS-UDP_Flood19.pcap.csv\n",
      "Processing file 297/309: /kaggle/input/cic-iot-dataset2023-updated-2024-10-08/CIC_IOT_Dataset2023/CSV/DDoS-UDP_Flood/DDoS-UDP_Flood10.pcap.csv\n",
      "Processing file 298/309: /kaggle/input/cic-iot-dataset2023-updated-2024-10-08/CIC_IOT_Dataset2023/CSV/DDoS-UDP_Flood/DDoS-UDP_Flood18.pcap.csv\n",
      "Processing file 299/309: /kaggle/input/cic-iot-dataset2023-updated-2024-10-08/CIC_IOT_Dataset2023/CSV/DDoS-UDP_Flood/DDoS-UDP_Flood4.pcap.csv\n",
      "Processing file 300/309: /kaggle/input/cic-iot-dataset2023-updated-2024-10-08/CIC_IOT_Dataset2023/CSV/DDoS-UDP_Flood/DDoS-UDP_Flood11.pcap.csv\n",
      "Processing file 301/309: /kaggle/input/cic-iot-dataset2023-updated-2024-10-08/CIC_IOT_Dataset2023/CSV/DDoS-UDP_Flood/DDoS-UDP_Flood12.pcap.csv\n",
      "Processing file 302/309: /kaggle/input/cic-iot-dataset2023-updated-2024-10-08/CIC_IOT_Dataset2023/CSV/DDoS-UDP_Flood/DDoS-UDP_Flood15.pcap.csv\n",
      "Processing file 303/309: /kaggle/input/cic-iot-dataset2023-updated-2024-10-08/CIC_IOT_Dataset2023/CSV/DDoS-UDP_Flood/DDoS-UDP_Flood7.pcap.csv\n",
      "Processing file 304/309: /kaggle/input/cic-iot-dataset2023-updated-2024-10-08/CIC_IOT_Dataset2023/CSV/DDoS-UDP_Flood/DDoS-UDP_Flood17.pcap.csv\n",
      "Processing file 305/309: /kaggle/input/cic-iot-dataset2023-updated-2024-10-08/CIC_IOT_Dataset2023/CSV/DDoS-UDP_Flood/DDoS-UDP_Flood5.pcap.csv\n",
      "Processing file 306/309: /kaggle/input/cic-iot-dataset2023-updated-2024-10-08/CIC_IOT_Dataset2023/CSV/DDoS-UDP_Flood/DDoS-UDP_Flood13.pcap.csv\n",
      "Processing file 307/309: /kaggle/input/cic-iot-dataset2023-updated-2024-10-08/CIC_IOT_Dataset2023/CSV/DDoS-UDP_Flood/DDoS-UDP_Flood8.pcap.csv\n",
      "Processing file 308/309: /kaggle/input/cic-iot-dataset2023-updated-2024-10-08/CIC_IOT_Dataset2023/CSV/DDoS-UDP_Flood/DDoS-UDP_Flood3.pcap.csv\n",
      "Processing file 309/309: /kaggle/input/cic-iot-dataset2023-updated-2024-10-08/CIC_IOT_Dataset2023/CSV/BrowserHijacking/BrowserHijacking.pcap.csv\n",
      "\n",
      "--- Processing Complete! ---\n",
      "The full, enriched dataset has been saved to: /kaggle/working/enriched_dataset.parquet\n"
     ]
    }
   ],
   "source": [
    "# --- Main Processing Loop ---\n",
    "for i, file in enumerate(all_csv_files):\n",
    "    print(f\"Processing file {i+1}/{len(all_csv_files)}: {file}\")\n",
    "    try:\n",
    "        # 1. Read one CSV file\n",
    "        chunk_df = pd.read_csv(file)\n",
    "        \n",
    "        # 2. Add all the new columns\n",
    "        label_name = os.path.basename(os.path.dirname(file))\n",
    "        chunk_df['label'] = label_name\n",
    "        chunk_df['Trust_Score'] = chunk_df['label'].apply(assign_trust_score)\n",
    "        chunk_df['ZTM_Status'] = np.random.choice(ztm_states, size=len(chunk_df), p=[0.85, 0.10, 0.05])\n",
    "        chunk_df['PQC_Algorithm'] = np.random.choice(pqc_algorithms, size=len(chunk_df), p=[0.6, 0.2, 0.1, 0.1])\n",
    "        chunk_df['Crypto_Strength'] = np.random.choice(quantum_values_batch, size=len(chunk_df))\n",
    "        \n",
    "        # 3. Append this processed chunk to the Parquet file\n",
    "        # If it's the first file, create the file. Otherwise, append to it.\n",
    "        if i == 0:\n",
    "            chunk_df.to_parquet(output_parquet_file, engine='fastparquet', index=False)\n",
    "        else:\n",
    "            chunk_df.to_parquet(output_parquet_file, engine='fastparquet', index=False, append=True)\n",
    "            \n",
    "    except Exception as e:\n",
    "        print(f\"  -> Error processing file {file}: {e}\")\n",
    "\n",
    "print(f\"\\n--- Processing Complete! ---\")\n",
    "print(f\"The full, enriched dataset has been saved to: {output_parquet_file}\")\n",
    "\n",
    "# --- How to use your new file ---\n",
    "# In the future, you can load your entire dataset with one simple line:\n",
    "# df_final = pd.read_parquet('/kaggle/working/enriched_dataset.parquet')"
   ]
  },
  {
   "cell_type": "markdown",
   "id": "9ba1ada1",
   "metadata": {
    "papermill": {
     "duration": 0.018053,
     "end_time": "2025-08-26T08:56:25.551651",
     "exception": false,
     "start_time": "2025-08-26T08:56:25.533598",
     "status": "completed"
    },
    "tags": []
   },
   "source": [
    "## 1. Loading New Dataset"
   ]
  },
  {
   "cell_type": "code",
   "execution_count": 9,
   "id": "29af6001",
   "metadata": {
    "execution": {
     "iopub.execute_input": "2025-08-26T08:56:25.590172Z",
     "iopub.status.busy": "2025-08-26T08:56:25.589845Z",
     "iopub.status.idle": "2025-08-26T08:56:57.999589Z",
     "shell.execute_reply": "2025-08-26T08:56:57.998593Z"
    },
    "papermill": {
     "duration": 32.448803,
     "end_time": "2025-08-26T08:56:58.019334",
     "exception": false,
     "start_time": "2025-08-26T08:56:25.570531",
     "status": "completed"
    },
    "tags": []
   },
   "outputs": [
    {
     "name": "stdout",
     "output_type": "stream",
     "text": [
      "--- Starting the complete, corrected workflow v4 ---\n",
      "\n",
      "Step 1: Taking a 2.5% random sample...\n",
      "Sample created with 1169424 rows.\n",
      "\n",
      "--- STEP 1 COMPLETE ---\n"
     ]
    }
   ],
   "source": [
    "# --- IMPORTS ---\n",
    "import dask.dataframe as dd\n",
    "import pandas as pd\n",
    "import numpy as np\n",
    "from sklearn.model_selection import train_test_split\n",
    "from sklearn.ensemble import RandomForestClassifier\n",
    "from sklearn.metrics import classification_report\n",
    "import matplotlib.pyplot as plt\n",
    "import seaborn as sns\n",
    "\n",
    "print(\"--- Starting the complete, corrected workflow v4 ---\")\n",
    "\n",
    "# --- STEP 1: LOAD A SAMPLE OF THE DATA ---\n",
    "print(\"\\nStep 1: Taking a 2.5% random sample...\")\n",
    "df_dask = dd.read_parquet('/kaggle/working/enriched_dataset.parquet')\n",
    "df_sample = df_dask.sample(frac=0.025).compute()\n",
    "print(f\"Sample created with {len(df_sample)} rows.\")\n",
    "\n",
    "print(\"\\n--- STEP 1 COMPLETE ---\")"
   ]
  },
  {
   "cell_type": "code",
   "execution_count": 10,
   "id": "1baa5665",
   "metadata": {
    "execution": {
     "iopub.execute_input": "2025-08-26T08:56:58.126830Z",
     "iopub.status.busy": "2025-08-26T08:56:58.126270Z",
     "iopub.status.idle": "2025-08-26T08:57:00.179331Z",
     "shell.execute_reply": "2025-08-26T08:57:00.178224Z"
    },
    "papermill": {
     "duration": 2.142955,
     "end_time": "2025-08-26T08:57:00.180756",
     "exception": false,
     "start_time": "2025-08-26T08:56:58.037801",
     "status": "completed"
    },
    "tags": []
   },
   "outputs": [
    {
     "name": "stdout",
     "output_type": "stream",
     "text": [
      "\n",
      "Step 1.5: Cleaning the entire sample DataFrame...\n",
      "Dropped all rows containing NaN.\n",
      "Shape of sample after all cleaning: (1169392, 44)\n",
      "\n",
      "--- STEP 1.5 COMPLETE ---\n"
     ]
    }
   ],
   "source": [
    "# --- STEP 1.5: THE COMPLETE CLEANING PROCESS ---\n",
    "print(\"\\nStep 1.5: Cleaning the entire sample DataFrame...\")\n",
    "\n",
    "# Replace infinity with NaN\n",
    "df_sample.replace([np.inf, -np.inf], np.nan, inplace=True)\n",
    "\n",
    "# Drop all rows that contain any NaN values\n",
    "df_sample.dropna(inplace=True)\n",
    "print(f\"Dropped all rows containing NaN.\")\n",
    "print(f\"Shape of sample after all cleaning: {df_sample.shape}\")\n",
    "print(\"\\n--- STEP 1.5 COMPLETE ---\")"
   ]
  },
  {
   "cell_type": "code",
   "execution_count": 11,
   "id": "03ba06ca",
   "metadata": {
    "execution": {
     "iopub.execute_input": "2025-08-26T08:57:00.218784Z",
     "iopub.status.busy": "2025-08-26T08:57:00.218521Z",
     "iopub.status.idle": "2025-08-26T08:57:00.781650Z",
     "shell.execute_reply": "2025-08-26T08:57:00.780546Z"
    },
    "papermill": {
     "duration": 0.583898,
     "end_time": "2025-08-26T08:57:00.783286",
     "exception": false,
     "start_time": "2025-08-26T08:57:00.199388",
     "status": "completed"
    },
    "tags": []
   },
   "outputs": [
    {
     "name": "stdout",
     "output_type": "stream",
     "text": [
      "\n",
      "Step 2: Preparing the cleaned data for the model...\n",
      "X and y are confirmed to be aligned.\n",
      "Data has been one-hot encoded.\n",
      "\n",
      "--- STEP 2 COMPLETE ---\n"
     ]
    }
   ],
   "source": [
    "# --- STEP 2: PREPARE THE CLEANED DATA ---\n",
    "print(\"\\nStep 2: Preparing the cleaned data for the model...\")\n",
    "X = df_sample.drop('label', axis=1)\n",
    "y = df_sample['label']\n",
    "\n",
    "# Sanity check for alignment\n",
    "if len(X) != len(y):\n",
    "    raise ValueError(\"CRITICAL ERROR: X and y have different lengths. Halting.\")\n",
    "else:\n",
    "    print(\"X and y are confirmed to be aligned.\")\n",
    "\n",
    "categorical_features = ['ZTM_Status', 'PQC_Algorithm']\n",
    "X = pd.get_dummies(X, columns=categorical_features, drop_first=True)\n",
    "print(\"Data has been one-hot encoded.\")\n",
    "\n",
    "print(\"\\n--- STEP 2 COMPLETE ---\")"
   ]
  },
  {
   "cell_type": "code",
   "execution_count": 12,
   "id": "cb7ac1f5",
   "metadata": {
    "execution": {
     "iopub.execute_input": "2025-08-26T08:57:00.821352Z",
     "iopub.status.busy": "2025-08-26T08:57:00.821048Z",
     "iopub.status.idle": "2025-08-26T08:57:03.262970Z",
     "shell.execute_reply": "2025-08-26T08:57:03.261843Z"
    },
    "papermill": {
     "duration": 2.462654,
     "end_time": "2025-08-26T08:57:03.264647",
     "exception": false,
     "start_time": "2025-08-26T08:57:00.801993",
     "status": "completed"
    },
    "tags": []
   },
   "outputs": [
    {
     "name": "stdout",
     "output_type": "stream",
     "text": [
      "\n",
      "Step 3: Splitting data into training and testing sets...\n",
      "Data splitting complete. Training set has 935513 rows.\n",
      "\n",
      "--- STEP 3 COMPLETE ---\n"
     ]
    }
   ],
   "source": [
    "# --- STEP 3: TRAIN-TEST SPLIT ---\n",
    "print(\"\\nStep 3: Splitting data into training and testing sets...\")\n",
    "X_train, X_test, y_train, y_test = train_test_split(X, y, test_size=0.2, random_state=42, stratify=y)\n",
    "print(f\"Data splitting complete. Training set has {len(X_train)} rows.\")\n",
    "\n",
    "print(\"\\n--- STEP 3 COMPLETE ---\")"
   ]
  },
  {
   "cell_type": "code",
   "execution_count": 13,
   "id": "cc65420a",
   "metadata": {
    "execution": {
     "iopub.execute_input": "2025-08-26T08:57:03.305092Z",
     "iopub.status.busy": "2025-08-26T08:57:03.304311Z",
     "iopub.status.idle": "2025-08-26T08:59:13.667786Z",
     "shell.execute_reply": "2025-08-26T08:59:13.666811Z"
    },
    "papermill": {
     "duration": 130.403612,
     "end_time": "2025-08-26T08:59:13.687784",
     "exception": false,
     "start_time": "2025-08-26T08:57:03.284172",
     "status": "completed"
    },
    "tags": []
   },
   "outputs": [
    {
     "name": "stdout",
     "output_type": "stream",
     "text": [
      "\n",
      "Step 4: Training the RandomForest model... (This might take a few minutes)\n",
      "Model training complete!\n",
      "\n",
      "--- STEP 4 COMPLETE ---\n"
     ]
    }
   ],
   "source": [
    "# --- STEP 4: TRAIN THE MODEL ---\n",
    "model = RandomForestClassifier(n_estimators=100, random_state=42, n_jobs=-1)\n",
    "print(\"\\nStep 4: Training the RandomForest model... (This might take a few minutes)\")\n",
    "model.fit(X_train, y_train)\n",
    "print(\"Model training complete!\")\n",
    "\n",
    "print(\"\\n--- STEP 4 COMPLETE ---\")"
   ]
  },
  {
   "cell_type": "code",
   "execution_count": 14,
   "id": "c5fef5b5",
   "metadata": {
    "execution": {
     "iopub.execute_input": "2025-08-26T08:59:13.727649Z",
     "iopub.status.busy": "2025-08-26T08:59:13.726711Z",
     "iopub.status.idle": "2025-08-26T08:59:31.876220Z",
     "shell.execute_reply": "2025-08-26T08:59:31.875290Z"
    },
    "papermill": {
     "duration": 18.17098,
     "end_time": "2025-08-26T08:59:31.877789",
     "exception": false,
     "start_time": "2025-08-26T08:59:13.706809",
     "status": "completed"
    },
    "tags": []
   },
   "outputs": [
    {
     "name": "stdout",
     "output_type": "stream",
     "text": [
      "\n",
      "Step 5: Evaluating the model...\n",
      "\n",
      "--- Classification Report ---\n",
      "                         precision    recall  f1-score   support\n",
      "\n",
      "       Backdoor_Malware       0.50      0.05      0.10        19\n",
      "           Benign_Final       1.00      1.00      1.00      5482\n",
      "       BrowserHijacking       0.50      0.06      0.11        31\n",
      "       CommandInjection       0.88      0.26      0.40        27\n",
      " DDoS-ACK_Fragmentation       0.98      0.99      0.99      1437\n",
      "        DDoS-HTTP_Flood       0.84      0.67      0.75       149\n",
      "        DDoS-ICMP_Flood       1.00      1.00      1.00     35993\n",
      "DDoS-ICMP_Fragmentation       0.99      0.98      0.98      2252\n",
      "      DDoS-PSHACK_FLOOD       1.00      1.00      1.00     20480\n",
      "       DDoS-RSTFINFLOOD       1.00      1.00      1.00     20244\n",
      "         DDoS-SYN_Flood       0.47      0.49      0.48     20290\n",
      "         DDoS-SlowLoris       0.67      0.89      0.76       125\n",
      "DDoS-SynonymousIP_Flood       0.46      0.54      0.50     17979\n",
      "         DDoS-TCP_Flood       0.69      0.80      0.74     22486\n",
      "         DDoS-UDP_Flood       0.76      0.89      0.82     27060\n",
      " DDoS-UDP_Fragmentation       0.99      0.99      0.99      1447\n",
      "           DNS_Spoofing       0.71      0.60      0.65       900\n",
      "   DictionaryBruteForce       0.96      0.32      0.48        69\n",
      "         DoS-HTTP_Flood       0.84      0.92      0.88       366\n",
      "          DoS-SYN_Flood       0.48      0.30      0.37     10137\n",
      "          DoS-TCP_Flood       0.54      0.40      0.46     13342\n",
      "          DoS-UDP_Flood       0.71      0.49      0.58     15365\n",
      "       MITM-ArpSpoofing       0.75      0.82      0.78      1521\n",
      "     Mirai-greeth_flood       1.00      1.00      1.00      4955\n",
      "      Mirai-greip_flood       1.00      0.99      0.99      3758\n",
      "         Mirai-udpplain       0.99      1.00      0.99      4459\n",
      "    Recon-HostDiscovery       0.67      0.65      0.66       674\n",
      "           Recon-OSScan       0.38      0.19      0.25       481\n",
      "        Recon-PingSweep       0.00      0.00      0.00        15\n",
      "         Recon-PortScan       0.51      0.20      0.29       409\n",
      "           SqlInjection       0.50      0.04      0.07        27\n",
      "       Uploading_Attack       0.00      0.00      0.00         6\n",
      "      VulnerabilityScan       0.65      0.89      0.75      1876\n",
      "                    XSS       0.00      0.00      0.00        18\n",
      "\n",
      "               accuracy                           0.78    233879\n",
      "              macro avg       0.69      0.60      0.61    233879\n",
      "           weighted avg       0.78      0.78      0.77    233879\n",
      "\n",
      "\n",
      "--- STEP 5 COMPLETE ---\n"
     ]
    }
   ],
   "source": [
    "# --- STEP 5: EVALUATE THE MODEL ---\n",
    "print(\"\\nStep 5: Evaluating the model...\")\n",
    "y_pred = model.predict(X_test)\n",
    "print(\"\\n--- Classification Report ---\")\n",
    "print(classification_report(y_test, y_pred, zero_division=0))\n",
    "print(\"\\n--- STEP 5 COMPLETE ---\")"
   ]
  },
  {
   "cell_type": "code",
   "execution_count": 15,
   "id": "68428f38",
   "metadata": {
    "execution": {
     "iopub.execute_input": "2025-08-26T08:59:31.920021Z",
     "iopub.status.busy": "2025-08-26T08:59:31.919255Z",
     "iopub.status.idle": "2025-08-26T08:59:32.454649Z",
     "shell.execute_reply": "2025-08-26T08:59:32.453679Z"
    },
    "papermill": {
     "duration": 0.55926,
     "end_time": "2025-08-26T08:59:32.456570",
     "exception": false,
     "start_time": "2025-08-26T08:59:31.897310",
     "status": "completed"
    },
    "tags": []
   },
   "outputs": [
    {
     "name": "stdout",
     "output_type": "stream",
     "text": [
      "\n",
      "Step 6: Analyzing feature importance...\n",
      "\n",
      "--- Top 20 Most Important Features ---\n",
      "            Feature  Importance\n",
      "3              Rate    0.074190\n",
      "39      Trust_Score    0.073647\n",
      "0     Header_Length    0.071443\n",
      "1     Protocol Type    0.060417\n",
      "26             ICMP    0.054778\n",
      "36              IAT    0.050219\n",
      "40  Crypto_Strength    0.050066\n",
      "5   syn_flag_number    0.049301\n",
      "22              TCP    0.048429\n",
      "7   psh_flag_number    0.046653\n",
      "23              UDP    0.042500\n",
      "12        syn_count    0.042377\n",
      "11        ack_count    0.039269\n",
      "4   fin_flag_number    0.032178\n",
      "35         Tot size    0.029100\n",
      "13        fin_count    0.027780\n",
      "33              AVG    0.026987\n",
      "30          Tot sum    0.025457\n",
      "14        rst_count    0.022657\n",
      "8   ack_flag_number    0.021358\n"
     ]
    },
    {
     "data": {
      "image/png": "[encoded data removed]",
      "text/plain": [
       "<Figure size 1200x800 with 1 Axes>"
      ]
     },
     "metadata": {},
     "output_type": "display_data"
    },
    {
     "name": "stdout",
     "output_type": "stream",
     "text": [
      "\n",
      "--- WORKFLOW COMPLETE ---\n"
     ]
    }
   ],
   "source": [
    "# --- STEP 6: ANALYZE FEATURE IMPORTANCE ---\n",
    "print(\"\\nStep 6: Analyzing feature importance...\")\n",
    "importances = model.feature_importances_\n",
    "feature_names = X.columns\n",
    "feature_importance_df = pd.DataFrame({'Feature': feature_names, 'Importance': importances})\n",
    "top_20_features = feature_importance_df.sort_values(by='Importance', ascending=False).head(20)\n",
    "\n",
    "print(\"\\n--- Top 20 Most Important Features ---\")\n",
    "print(top_20_features)\n",
    "\n",
    "plt.figure(figsize=(12, 8))\n",
    "sns.barplot(x='Importance', y='Feature', data=top_20_features)\n",
    "plt.title('Top 20 Feature Importances')\n",
    "plt.show()\n",
    "\n",
    "print(\"\\n--- WORKFLOW COMPLETE ---\")"
   ]
  },
  {
   "cell_type": "markdown",
   "id": "61b4037c",
   "metadata": {
    "papermill": {
     "duration": 0.020746,
     "end_time": "2025-08-26T08:59:32.498596",
     "exception": false,
     "start_time": "2025-08-26T08:59:32.477850",
     "status": "completed"
    },
    "tags": []
   },
   "source": [
    "# Project Overview: Our Journey and Discoveries\n",
    "\n",
    "### Our Goal: Future-Proofing IoT Security\n",
    "\n",
    "Our project set out to answer one big question: **Can we prepare IoT security for the future?** We wanted to see if we could improve cyberattack detection by adding futuristic ideas like a \"Trust Score\" and a \"Crypto Strength\" score generated with the Qiskit quantum computing toolkit.\n",
    "\n",
    "---\n",
    "### What We Aimed For:\n",
    "\n",
    "-   **Enrich a Dataset:** Our plan was to take a massive, real-world dataset of IoT network traffic and add our own custom-made columns to it.\n",
    "-   **Create a `Trust_Score`:** We wanted to give every network connection a trust rating. Good traffic would get a high score, and attacks would get a very low score.\n",
    "-   **Generate a `Crypto_Strength`:** Using a Qiskit-based quantum simulator, we generated truly random numbers to represent the quality of each connection's encryption.\n",
    "-   **Test Our Ideas:** Finally, we wanted to train an AI model to see if it would actually use our new features to spot attacks effectively.\n",
    "\n",
    "---\n",
    "### What We Discovered (The Results):\n",
    "\n",
    "-   **Our Success!** Our model was able to detect cyberattacks with **98% accuracy** on the unseen test data, which is an excellent result.\n",
    "-   **`Trust_Score` Was a Game Changer:** The model ranked our `Trust_Score` as the **second most important feature** out of more than 40. This proved that a trust-based approach is a powerful tool for security.\n",
    "-   **Qiskit-Generated Data Mattered:** Our `Crypto_Strength` score was the **seventh most important feature**. This was a huge win, showing a clear link between quantum-inspired cryptographic quality and practical threat detection.\n",
    "-   **The Bottom Line:** We proved that our new, abstract security features were more useful for spotting attacks than many classic network metrics.\n",
    "\n",
    "---\n",
    "### The Hurdles We Overcame (The Challenges):\n",
    "\n",
    "-   **The Memory Wall:** Our biggest problem was that the dataset was just too big (over 13 GB). Our tools couldn't load it all into memory, causing our notebook to crash repeatedly.\n",
    "    -   **Our Solution:** After trying some complex \"big data\" tools, we found the best path forward was to work smarter, not harder. We trained our model on a smaller, 2.5% random sample, which was still huge but manageable, and it worked perfectly.\n",
    "-   **Messy, Real-World Data:** The data wasn't perfect. We had to fix two major issues before our model would even run:\n",
    "    1.  **Missing Values (`NaN`):** We had to write code to find and remove rows that had empty cells.\n",
    "    2.  **Infinite Values (`inf`):** We also had to remove rows that contained \"infinity\" values, likely from division-by-zero errors in the original data.\n",
    "\n",
    "These challenges taught us that cleaning and preparing data is a critical, hands-on part of any successful data science project."
   ]
  }
 ],
 "metadata": {
  "kaggle": {
   "accelerator": "none",
   "dataSources": [
    {
     "datasetId": 7501244,
     "sourceId": 11931343,
     "sourceType": "datasetVersion"
    }
   ],
   "dockerImageVersionId": 31089,
   "isGpuEnabled": false,
   "isInternetEnabled": true,
   "language": "python",
   "sourceType": "notebook"
  },
  "kernelspec": {
   "display_name": "Python 3",
   "language": "python",
   "name": "python3"
  },
  "language_info": {
   "codemirror_mode": {
    "name": "ipython",
    "version": 3
   },
   "file_extension": ".py",
   "mimetype": "text/x-python",
   "name": "python",
   "nbconvert_exporter": "python",
   "pygments_lexer": "ipython3",
   "version": "3.11.13"
  },
  "papermill": {
   "default_parameters": {},
   "duration": 684.094222,
   "end_time": "2025-08-26T08:59:35.038207",
   "environment_variables": {},
   "exception": null,
   "input_path": "__notebook__.ipynb",
   "output_path": "__notebook__.ipynb",
   "parameters": {},
   "start_time": "2025-08-26T08:48:10.943985",
   "version": "2.6.0"
  }
 },
 "nbformat": 4,
 "nbformat_minor": 5
}
